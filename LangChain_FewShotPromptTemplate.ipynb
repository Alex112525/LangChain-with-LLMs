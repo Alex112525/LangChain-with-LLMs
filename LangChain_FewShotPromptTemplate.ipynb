{
  "nbformat": 4,
  "nbformat_minor": 0,
  "metadata": {
    "colab": {
      "provenance": [],
      "gpuType": "T4",
      "authorship_tag": "ABX9TyO9PORI6xEkpbKMVmLrSa3U",
      "include_colab_link": true
    },
    "kernelspec": {
      "name": "python3",
      "display_name": "Python 3"
    },
    "language_info": {
      "name": "python"
    },
    "accelerator": "GPU"
  },
  "cells": [
    {
      "cell_type": "markdown",
      "metadata": {
        "id": "view-in-github",
        "colab_type": "text"
      },
      "source": [
        "<a href=\"https://colab.research.google.com/github/Alex112525/LangChain-with-LLMs/blob/main/LangChain_FewShotPromptTemplate.ipynb\" target=\"_parent\"><img src=\"https://colab.research.google.com/assets/colab-badge.svg\" alt=\"Open In Colab\"/></a>"
      ]
    },
    {
      "cell_type": "code",
      "execution_count": null,
      "metadata": {
        "id": "g7AbM1SP8Nrd"
      },
      "outputs": [],
      "source": [
        "!pip install transformers einops accelerate langchain bitsandbytes xformers"
      ]
    },
    {
      "cell_type": "code",
      "source": [
        "!nvidia-smi"
      ],
      "metadata": {
        "colab": {
          "base_uri": "https://localhost:8080/"
        },
        "id": "4PO0J7g38vaQ",
        "outputId": "d91bf45c-8070-48d4-e1b3-58b7028129fb"
      },
      "execution_count": 2,
      "outputs": [
        {
          "output_type": "stream",
          "name": "stdout",
          "text": [
            "Wed Jul  5 03:59:55 2023       \n",
            "+-----------------------------------------------------------------------------+\n",
            "| NVIDIA-SMI 525.85.12    Driver Version: 525.85.12    CUDA Version: 12.0     |\n",
            "|-------------------------------+----------------------+----------------------+\n",
            "| GPU  Name        Persistence-M| Bus-Id        Disp.A | Volatile Uncorr. ECC |\n",
            "| Fan  Temp  Perf  Pwr:Usage/Cap|         Memory-Usage | GPU-Util  Compute M. |\n",
            "|                               |                      |               MIG M. |\n",
            "|===============================+======================+======================|\n",
            "|   0  Tesla T4            Off  | 00000000:00:04.0 Off |                    0 |\n",
            "| N/A   61C    P8    13W /  70W |      0MiB / 15360MiB |      0%      Default |\n",
            "|                               |                      |                  N/A |\n",
            "+-------------------------------+----------------------+----------------------+\n",
            "                                                                               \n",
            "+-----------------------------------------------------------------------------+\n",
            "| Processes:                                                                  |\n",
            "|  GPU   GI   CI        PID   Type   Process name                  GPU Memory |\n",
            "|        ID   ID                                                   Usage      |\n",
            "|=============================================================================|\n",
            "|  No running processes found                                                 |\n",
            "+-----------------------------------------------------------------------------+\n"
          ]
        }
      ]
    },
    {
      "cell_type": "code",
      "source": [
        "from langchain import HuggingFacePipeline\n",
        "from transformers import AutoTokenizer, pipeline\n",
        "from langchain import PromptTemplate, LLMChain\n",
        "\n",
        "import torch\n",
        "import langchain\n",
        "from IPython.display import display, Markdown"
      ],
      "metadata": {
        "id": "d6WQX7cj9Kxz"
      },
      "execution_count": 3,
      "outputs": []
    },
    {
      "cell_type": "code",
      "source": [
        "def printmd(string):\n",
        "    display(Markdown(string))"
      ],
      "metadata": {
        "id": "bmIz-UFmoj7o"
      },
      "execution_count": 4,
      "outputs": []
    },
    {
      "cell_type": "markdown",
      "source": [
        "**bertin-project/bertin-gpt-j-6B-alpaca** is an artificial intelligence language model based on the GPT-J 6B model. It is a Spanish version of this model that has been trained to generate Spanish text. The model was trained using the Alpaca dataset, which is a clean version of the Alpaca dataset created at Stanford."
      ],
      "metadata": {
        "id": "9QBUVf8EneSD"
      }
    },
    {
      "cell_type": "code",
      "source": [
        "model = \"bertin-project/bertin-gpt-j-6B-alpaca\"  # The name of the model to use.\n",
        "\n",
        "tokenizer = AutoTokenizer.from_pretrained(model)  # The tokenizer to use to encode and decode text.\n",
        "\n",
        "pipeline = pipeline(\"text-generation\",  # The name of the pipeline to use.\n",
        "                    model=model,  # The model to use for text generation.\n",
        "                    tokenizer=tokenizer,  # The tokenizer to use to encode and decode text.\n",
        "                    torch_dtype=torch.bfloat16,  # The data type to use for the model's computations.\n",
        "                    trust_remote_code=True,  # Whether to trust remote code when loading the model. This should only be set to True if you trust the source of the model.\n",
        "                    device_map=\"auto\",  # The device to use for the model's computations.\n",
        "                    max_length=512,  # The maximum length of the text to generate.\n",
        "                    do_sample=True,  # Whether to use sampling when generating text.\n",
        "                    top_k=2,  # The number of candidates to keep when sampling.\n",
        "                    num_return_sequences=1,  # The number of text sequences to generate.\n",
        "                    eos_token_id=tokenizer.eos_token_id  # The ID of the end-of-sequence token.\n",
        "                    )\n"
      ],
      "metadata": {
        "id": "1t4IUucx9aHJ"
      },
      "execution_count": null,
      "outputs": []
    },
    {
      "cell_type": "code",
      "source": [
        "llm = HuggingFacePipeline(pipeline=pipeline, model_kwargs={\"temperature\": 0.2})"
      ],
      "metadata": {
        "id": "26Nlr0zv_Iur"
      },
      "execution_count": 6,
      "outputs": []
    },
    {
      "cell_type": "markdown",
      "source": [
        "## FewShotPromptTemplate"
      ],
      "metadata": {
        "id": "9kuwqJ1mI_ZR"
      }
    },
    {
      "cell_type": "markdown",
      "source": [
        "### Test 1"
      ],
      "metadata": {
        "id": "UzS3J6KmToxe"
      }
    },
    {
      "cell_type": "markdown",
      "source": [
        "*Few-shot prompting* or *Context learning* is a machine learning technique that allows a model to process examples before attempting a task. This technique is used in natural language processing and is considered an emerging property of large language models."
      ],
      "metadata": {
        "id": "mQIRk_bDJIQ1"
      }
    },
    {
      "cell_type": "code",
      "source": [
        "from langchain import FewShotPromptTemplate\n",
        "\n",
        "# First we make a list of examples that we want the model to learn from.\n",
        "examples = [\n",
        "    {\"pregunta\": 'Invierno es a ______ como verano es a calor', \"respuesta\" : \"frío\"},\n",
        "    {\"pregunta\": 'Hielo es a sólido como agua es a ______', \"respuesta\": \"líquido\"},\n",
        "    {\"pregunta\": 'Luz es a día como estrellas son a ________', \"respuesta\": \"noche\"}\n",
        "]\n",
        "\n",
        "\"\"\" Now we assemble a template for the model, as in the examples we include\n",
        "response in the template there must be a space for this variable.\n",
        "In template we tell it how we want to format the promt and where\n",
        "to obtain the variables inside the variable examples.\"\"\"\n",
        "\n",
        "few_shot_promp = PromptTemplate(input_variables=[\"pregunta\", \"respuesta\"],\n",
        "                                     template = \"Pregunta: {pregunta}\\nRespuesta: {respuesta}\")"
      ],
      "metadata": {
        "id": "-qZiFiX5I-i0"
      },
      "execution_count": 18,
      "outputs": []
    },
    {
      "cell_type": "code",
      "source": [
        "examples[0]"
      ],
      "metadata": {
        "colab": {
          "base_uri": "https://localhost:8080/"
        },
        "id": "A4H-QL6GQlB1",
        "outputId": "68f08c7a-21b1-40e9-c802-48a33e5d52df"
      },
      "execution_count": 19,
      "outputs": [
        {
          "output_type": "execute_result",
          "data": {
            "text/plain": [
              "{'pregunta': 'Invierno es a ______ como verano es a calor',\n",
              " 'respuesta': 'frío'}"
            ]
          },
          "metadata": {},
          "execution_count": 19
        }
      ]
    },
    {
      "cell_type": "code",
      "source": [
        "promt_examples = FewShotPromptTemplate(example_prompt=few_shot_promp,\n",
        "                                       examples=examples,\n",
        "                                       prefix = \"Eres un asistente virtual muy bueno para los acertijos logicos.\",\n",
        "                                       suffix = \"Rellena el espacio en blanco: {pregunta}\\nRespuesta:\",\n",
        "                                        input_variables=[\"pregunta\"])"
      ],
      "metadata": {
        "id": "FHfW7_yFLeby"
      },
      "execution_count": 39,
      "outputs": []
    },
    {
      "cell_type": "code",
      "source": [
        "question_1 = \"Pluma es a escribir como pincel es a ________.\"\n",
        "question_2 = \"Libro es a leer como película es a ________.\"\n",
        "question_3 = \"Arcoíris es a colores como música es a ________.\""
      ],
      "metadata": {
        "id": "2vkQNoVtLzdL"
      },
      "execution_count": 32,
      "outputs": []
    },
    {
      "cell_type": "code",
      "source": [
        "prompt_value = promt_examples.format(pregunta=question_1)\n",
        "prompt_value_2 = promt_examples.format(pregunta=question_2)\n",
        "prompt_value_3 = promt_examples.format(pregunta=question_3)\n",
        "print(prompt_value_3)"
      ],
      "metadata": {
        "colab": {
          "base_uri": "https://localhost:8080/"
        },
        "id": "LdRrT1r_MlOw",
        "outputId": "585f4ec2-0fc9-4884-c948-cb83a7da49a5"
      },
      "execution_count": 40,
      "outputs": [
        {
          "output_type": "stream",
          "name": "stdout",
          "text": [
            "Eres un asistente virtual muy bueno para los acertijos logicos.\n",
            "\n",
            "Pregunta: Invierno es a ______ como verano es a calor\n",
            "Respuesta: frío\n",
            "\n",
            "Pregunta: Hielo es a sólido como agua es a ______\n",
            "Respuesta: líquido\n",
            "\n",
            "Pregunta: Luz es a día como estrellas son a ________\n",
            "Respuesta: noche\n",
            "\n",
            "Rellena el espacio en blanco: Arcoíris es a colores como música es a ________.\n",
            "Respuesta:\n"
          ]
        }
      ]
    },
    {
      "cell_type": "markdown",
      "source": [
        "#### Test without FewShotPrompting"
      ],
      "metadata": {
        "id": "ttOhSyiAMAXm"
      }
    },
    {
      "cell_type": "code",
      "source": [
        "printmd(llm(question_1)) #\"Pluma es a escribir como pincel es a ________.\""
      ],
      "metadata": {
        "colab": {
          "base_uri": "https://localhost:8080/",
          "height": 100
        },
        "id": "8d_5O1paL604",
        "outputId": "bb04d224-7a9b-40c2-cea5-28870d943e1d"
      },
      "execution_count": 23,
      "outputs": [
        {
          "output_type": "stream",
          "name": "stderr",
          "text": [
            "Setting `pad_token_id` to `eos_token_id`:50256 for open-end generation.\n"
          ]
        },
        {
          "output_type": "display_data",
          "data": {
            "text/plain": [
              "<IPython.core.display.Markdown object>"
            ],
            "text/markdown": "\n\n### Respuesta:\nPintar"
          },
          "metadata": {}
        }
      ]
    },
    {
      "cell_type": "code",
      "source": [
        "printmd(llm(question_2)) #\"Libro es a leer como película es a ________.\""
      ],
      "metadata": {
        "colab": {
          "base_uri": "https://localhost:8080/",
          "height": 100
        },
        "id": "0d_SnrFiRcVa",
        "outputId": "cc7bdd89-f083-41d4-c27f-0591ba4c0008"
      },
      "execution_count": 27,
      "outputs": [
        {
          "output_type": "stream",
          "name": "stderr",
          "text": [
            "Setting `pad_token_id` to `eos_token_id`:50256 for open-end generation.\n"
          ]
        },
        {
          "output_type": "display_data",
          "data": {
            "text/plain": [
              "<IPython.core.display.Markdown object>"
            ],
            "text/markdown": "\n\n### Respuesta:\nPelícula."
          },
          "metadata": {}
        }
      ]
    },
    {
      "cell_type": "code",
      "source": [
        "printmd(llm(question_3)) #\"Arcoíris es a colores como música es a ________.\""
      ],
      "metadata": {
        "colab": {
          "base_uri": "https://localhost:8080/",
          "height": 100
        },
        "id": "URHkBYyVSA_m",
        "outputId": "05badf8d-3140-485e-cc09-9f8f6a28e541"
      },
      "execution_count": 36,
      "outputs": [
        {
          "output_type": "stream",
          "name": "stderr",
          "text": [
            "Setting `pad_token_id` to `eos_token_id`:50256 for open-end generation.\n"
          ]
        },
        {
          "output_type": "display_data",
          "data": {
            "text/plain": [
              "<IPython.core.display.Markdown object>"
            ],
            "text/markdown": "\n\n### Respuesta:\nArcoíris es a tonos."
          },
          "metadata": {}
        }
      ]
    },
    {
      "cell_type": "markdown",
      "source": [
        "#### Test with FewShotPrompting"
      ],
      "metadata": {
        "id": "BqPLJN8aMJz9"
      }
    },
    {
      "cell_type": "code",
      "source": [
        "printmd(llm(prompt_value)) #\"Pluma es a escribir como pincel es a ________.\""
      ],
      "metadata": {
        "colab": {
          "base_uri": "https://localhost:8080/",
          "height": 64
        },
        "id": "FDm27i9HMRCj",
        "outputId": "f988184d-cb41-480f-cf7e-ddbbf525b41e"
      },
      "execution_count": 24,
      "outputs": [
        {
          "output_type": "stream",
          "name": "stderr",
          "text": [
            "Setting `pad_token_id` to `eos_token_id`:50256 for open-end generation.\n"
          ]
        },
        {
          "output_type": "display_data",
          "data": {
            "text/plain": [
              "<IPython.core.display.Markdown object>"
            ],
            "text/markdown": " pintar"
          },
          "metadata": {}
        }
      ]
    },
    {
      "cell_type": "code",
      "source": [
        "printmd(llm(prompt_value_2)) #\"Libro es a leer como película es a ________.\""
      ],
      "metadata": {
        "colab": {
          "base_uri": "https://localhost:8080/",
          "height": 64
        },
        "id": "qa0hEp_HReLv",
        "outputId": "81545881-5c17-4b31-ea60-b18b957f6e16"
      },
      "execution_count": 30,
      "outputs": [
        {
          "output_type": "stream",
          "name": "stderr",
          "text": [
            "Setting `pad_token_id` to `eos_token_id`:50256 for open-end generation.\n"
          ]
        },
        {
          "output_type": "display_data",
          "data": {
            "text/plain": [
              "<IPython.core.display.Markdown object>"
            ],
            "text/markdown": " ver"
          },
          "metadata": {}
        }
      ]
    },
    {
      "cell_type": "code",
      "source": [
        "printmd(llm(prompt_value_3)) #\"Arcoíris es a colores como música es a ________.\""
      ],
      "metadata": {
        "colab": {
          "base_uri": "https://localhost:8080/",
          "height": 64
        },
        "id": "ep0oZ1AsSDwY",
        "outputId": "de472304-5fcd-47f8-9f54-86c343e71220"
      },
      "execution_count": 35,
      "outputs": [
        {
          "output_type": "stream",
          "name": "stderr",
          "text": [
            "Setting `pad_token_id` to `eos_token_id`:50256 for open-end generation.\n"
          ]
        },
        {
          "output_type": "display_data",
          "data": {
            "text/plain": [
              "<IPython.core.display.Markdown object>"
            ],
            "text/markdown": " sonido"
          },
          "metadata": {}
        }
      ]
    },
    {
      "cell_type": "markdown",
      "source": [
        "### Test 2"
      ],
      "metadata": {
        "id": "UgZ9Wxg2ThIE"
      }
    },
    {
      "cell_type": "code",
      "source": [
        "from langchain import FewShotPromptTemplate\n",
        "\n",
        "# First we make a list of examples that we want the model to learn from.\n",
        "examples = [\n",
        "    {\"enunciado\": \"El perro ladraba muy fuerte durante toda la noche.\", \"resumen\": \"El perro ladraba.\"},\n",
        "    {\"enunciado\": \"El científico realizó una serie de experimentos exhaustivos para probar su teoría.\", \"resumen\": \"El científico experimentó.\"},\n",
        "    {\"enunciado\": \"Ana caminó bajo la lluvia, se mojó completamente y llegó empapada a su casa.\", \"resumen\": \"Ana se mojó.\"}\n",
        "]\n",
        "\n",
        "\"\"\" Now we assemble a template for the model, as in the examples we include\n",
        "response in the template there must be a space for this variable.\n",
        "In template we tell it how we want to format the promt and where\n",
        "to obtain the variables inside the variable examples.\"\"\"\n",
        "\n",
        "few_shot_promp = PromptTemplate(input_variables=[\"enunciado\", \"resumen\"],\n",
        "                                     template = \"Enunciado: {enunciado}\\nResumen: {resumen}\")"
      ],
      "metadata": {
        "id": "NxzJg2iXTf8C"
      },
      "execution_count": 70,
      "outputs": []
    },
    {
      "cell_type": "code",
      "source": [
        "promt_examples = FewShotPromptTemplate(example_prompt=few_shot_promp,\n",
        "                                       examples=examples,\n",
        "                                       prefix = \"Responde con el resumen de las acciones que realizo el sujeto en el enunciado.\",\n",
        "                                       suffix = \"Enunciado: {enunciado}\\nResumen:\",\n",
        "                                        input_variables=[\"enunciado\"])"
      ],
      "metadata": {
        "id": "vi2fqESBUVxX"
      },
      "execution_count": 82,
      "outputs": []
    },
    {
      "cell_type": "code",
      "source": [
        "sentence = \"El artista pintó un retrato detallado del paisaje montañoso utilizando una paleta de colores vibrantes.\"\n",
        "sentence_2 = \"El niño se subió al árbol, saltó de una rama a otra y finalmente alcanzó el nido de pájaros.\""
      ],
      "metadata": {
        "id": "gToYqsK6Usoc"
      },
      "execution_count": 68,
      "outputs": []
    },
    {
      "cell_type": "code",
      "source": [
        "prompt_value = promt_examples.format(enunciado=sentence)\n",
        "prompt_value_2 = promt_examples.format(enunciado=sentence_2)\n",
        "printmd(prompt_value)"
      ],
      "metadata": {
        "colab": {
          "base_uri": "https://localhost:8080/",
          "height": 140
        },
        "id": "y-nBPGjnUoxv",
        "outputId": "7c866c7e-1bd8-4083-a8b4-f6817bf9acb7"
      },
      "execution_count": 83,
      "outputs": [
        {
          "output_type": "display_data",
          "data": {
            "text/plain": [
              "<IPython.core.display.Markdown object>"
            ],
            "text/markdown": "Responde con el resumen de las acciones que realizo el sujeto en el enunciado.\n\nEnunciado: El perro ladraba muy fuerte durante toda la noche.\nResumen: El perro ladraba.\n\nEnunciado: El científico realizó una serie de experimentos exhaustivos para probar su teoría.\nResumen: El científico experimentó.\n\nEnunciado: Ana caminó bajo la lluvia, se mojó completamente y llegó empapada a su casa.\nResumen: Ana se mojó.\n\nEnunciado: El artista pintó un retrato detallado del paisaje montañoso utilizando una paleta de colores vibrantes.\nResumen:"
          },
          "metadata": {}
        }
      ]
    },
    {
      "cell_type": "code",
      "source": [
        "printmd(llm(prompt_value))"
      ],
      "metadata": {
        "colab": {
          "base_uri": "https://localhost:8080/",
          "height": 64
        },
        "id": "Xzl2ojbyVTQp",
        "outputId": "add54145-927f-458d-e0b4-615fc463578e"
      },
      "execution_count": 84,
      "outputs": [
        {
          "output_type": "stream",
          "name": "stderr",
          "text": [
            "Setting `pad_token_id` to `eos_token_id`:50256 for open-end generation.\n"
          ]
        },
        {
          "output_type": "display_data",
          "data": {
            "text/plain": [
              "<IPython.core.display.Markdown object>"
            ],
            "text/markdown": " El artista pintó un paisaje montañoso con una paleta de colores vibrante."
          },
          "metadata": {}
        }
      ]
    },
    {
      "cell_type": "code",
      "source": [
        "printmd(llm(prompt_value_2))"
      ],
      "metadata": {
        "colab": {
          "base_uri": "https://localhost:8080/",
          "height": 64
        },
        "id": "xDjFbsNaVZy3",
        "outputId": "66ae85ea-b244-48a3-dd7f-212da9f960ff"
      },
      "execution_count": 85,
      "outputs": [
        {
          "output_type": "stream",
          "name": "stderr",
          "text": [
            "Setting `pad_token_id` to `eos_token_id`:50256 for open-end generation.\n"
          ]
        },
        {
          "output_type": "display_data",
          "data": {
            "text/plain": [
              "<IPython.core.display.Markdown object>"
            ],
            "text/markdown": " El niño escaló el árbol."
          },
          "metadata": {}
        }
      ]
    }
  ]
}