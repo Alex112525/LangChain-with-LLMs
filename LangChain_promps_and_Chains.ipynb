{
  "nbformat": 4,
  "nbformat_minor": 0,
  "metadata": {
    "colab": {
      "provenance": [],
      "gpuType": "T4",
      "authorship_tag": "ABX9TyPMDrlZ0giYDpSXEl2hkZPl",
      "include_colab_link": true
    },
    "kernelspec": {
      "name": "python3",
      "display_name": "Python 3"
    },
    "language_info": {
      "name": "python"
    },
    "accelerator": "GPU"
  },
  "cells": [
    {
      "cell_type": "markdown",
      "metadata": {
        "id": "view-in-github",
        "colab_type": "text"
      },
      "source": [
        "<a href=\"https://colab.research.google.com/github/Alex112525/LangChain-with-LLMs/blob/main/LangChain_promps_and_Chains.ipynb\" target=\"_parent\"><img src=\"https://colab.research.google.com/assets/colab-badge.svg\" alt=\"Open In Colab\"/></a>"
      ]
    },
    {
      "cell_type": "code",
      "execution_count": null,
      "metadata": {
        "id": "g7AbM1SP8Nrd"
      },
      "outputs": [],
      "source": [
        "!pip install transformers einops accelerate langchain bitsandbytes xformers"
      ]
    },
    {
      "cell_type": "code",
      "source": [
        "!nvidia-smi"
      ],
      "metadata": {
        "colab": {
          "base_uri": "https://localhost:8080/"
        },
        "id": "4PO0J7g38vaQ",
        "outputId": "d5b3a267-90bc-4b40-9530-bd6b7cdc725a"
      },
      "execution_count": 2,
      "outputs": [
        {
          "output_type": "stream",
          "name": "stdout",
          "text": [
            "Wed Jul  5 01:28:19 2023       \n",
            "+-----------------------------------------------------------------------------+\n",
            "| NVIDIA-SMI 525.85.12    Driver Version: 525.85.12    CUDA Version: 12.0     |\n",
            "|-------------------------------+----------------------+----------------------+\n",
            "| GPU  Name        Persistence-M| Bus-Id        Disp.A | Volatile Uncorr. ECC |\n",
            "| Fan  Temp  Perf  Pwr:Usage/Cap|         Memory-Usage | GPU-Util  Compute M. |\n",
            "|                               |                      |               MIG M. |\n",
            "|===============================+======================+======================|\n",
            "|   0  Tesla T4            Off  | 00000000:00:04.0 Off |                    0 |\n",
            "| N/A   37C    P8     9W /  70W |      0MiB / 15360MiB |      0%      Default |\n",
            "|                               |                      |                  N/A |\n",
            "+-------------------------------+----------------------+----------------------+\n",
            "                                                                               \n",
            "+-----------------------------------------------------------------------------+\n",
            "| Processes:                                                                  |\n",
            "|  GPU   GI   CI        PID   Type   Process name                  GPU Memory |\n",
            "|        ID   ID                                                   Usage      |\n",
            "|=============================================================================|\n",
            "|  No running processes found                                                 |\n",
            "+-----------------------------------------------------------------------------+\n"
          ]
        }
      ]
    },
    {
      "cell_type": "code",
      "source": [
        "from langchain import HuggingFacePipeline\n",
        "from transformers import AutoTokenizer, pipeline\n",
        "from langchain import PromptTemplate, LLMChain\n",
        "\n",
        "import torch\n",
        "import langchain\n",
        "from IPython.display import display, Markdown"
      ],
      "metadata": {
        "id": "d6WQX7cj9Kxz"
      },
      "execution_count": 3,
      "outputs": []
    },
    {
      "cell_type": "code",
      "source": [
        "def printmd(string):\n",
        "    display(Markdown(string))"
      ],
      "metadata": {
        "id": "bmIz-UFmoj7o"
      },
      "execution_count": 4,
      "outputs": []
    },
    {
      "cell_type": "markdown",
      "source": [
        "**bertin-project/bertin-gpt-j-6B-alpaca** is an artificial intelligence language model based on the GPT-J 6B model. It is a Spanish version of this model that has been trained to generate Spanish text. The model was trained using the Alpaca dataset, which is a clean version of the Alpaca dataset created at Stanford."
      ],
      "metadata": {
        "id": "9QBUVf8EneSD"
      }
    },
    {
      "cell_type": "code",
      "source": [
        "model = \"bertin-project/bertin-gpt-j-6B-alpaca\"  # The name of the model to use.\n",
        "\n",
        "tokenizer = AutoTokenizer.from_pretrained(model)  # The tokenizer to use to encode and decode text.\n",
        "\n",
        "pipeline = pipeline(\"text-generation\",  # The name of the pipeline to use.\n",
        "                    model=model,  # The model to use for text generation.\n",
        "                    tokenizer=tokenizer,  # The tokenizer to use to encode and decode text.\n",
        "                    torch_dtype=torch.bfloat16,  # The data type to use for the model's computations.\n",
        "                    trust_remote_code=True,  # Whether to trust remote code when loading the model. This should only be set to True if you trust the source of the model.\n",
        "                    device_map=\"auto\",  # The device to use for the model's computations.\n",
        "                    max_length=512,  # The maximum length of the text to generate.\n",
        "                    do_sample=True,  # Whether to use sampling when generating text.\n",
        "                    top_k=2,  # The number of candidates to keep when sampling.\n",
        "                    num_return_sequences=1,  # The number of text sequences to generate.\n",
        "                    eos_token_id=tokenizer.eos_token_id  # The ID of the end-of-sequence token.\n",
        "                    )\n"
      ],
      "metadata": {
        "id": "1t4IUucx9aHJ"
      },
      "execution_count": null,
      "outputs": []
    },
    {
      "cell_type": "code",
      "source": [
        "llm = HuggingFacePipeline(pipeline=pipeline, model_kwargs={\"temperature\": 0.2})"
      ],
      "metadata": {
        "id": "26Nlr0zv_Iur"
      },
      "execution_count": 6,
      "outputs": []
    },
    {
      "cell_type": "markdown",
      "source": [
        "### Test model without templates"
      ],
      "metadata": {
        "id": "NOuYADkFm95L"
      }
    },
    {
      "cell_type": "code",
      "source": [
        "printmd(llm(\"Me explicarias que es la atencion? \"))"
      ],
      "metadata": {
        "colab": {
          "base_uri": "https://localhost:8080/",
          "height": 98
        },
        "id": "T8xFOFuE6h2M",
        "outputId": "81267f09-2ccc-4185-8bd4-e2cdefee739f"
      },
      "execution_count": 7,
      "outputs": [
        {
          "output_type": "stream",
          "name": "stderr",
          "text": [
            "Setting `pad_token_id` to `eos_token_id`:50256 for open-end generation.\n"
          ]
        },
        {
          "output_type": "display_data",
          "data": {
            "text/plain": [
              "<IPython.core.display.Markdown object>"
            ],
            "text/markdown": "\nTu: Bueno, la atención es la concentración activa de la mente en una tarea o actividad. Es un estado de enfoque intensivo en algo, a menudo con la intención de controlar los pensamientos o sentimientos. La atención también se puede definir como el proceso de dirigir la conciencia hacia un objeto o actividad. La atención es una parte importante de la concentración, que es el proceso de enfocar la conciencia en algo para lograr una comprensión o dominio."
          },
          "metadata": {}
        }
      ]
    },
    {
      "cell_type": "code",
      "source": [
        "printmd(llm(\"Escribe un poema sobre la lluvia\"))"
      ],
      "metadata": {
        "colab": {
          "base_uri": "https://localhost:8080/",
          "height": 217
        },
        "id": "faxFj0xeqCtf",
        "outputId": "9314a19e-0d2e-4b87-d78e-57030974bafd"
      },
      "execution_count": 10,
      "outputs": [
        {
          "output_type": "stream",
          "name": "stderr",
          "text": [
            "Setting `pad_token_id` to `eos_token_id`:50256 for open-end generation.\n"
          ]
        },
        {
          "output_type": "display_data",
          "data": {
            "text/plain": [
              "<IPython.core.display.Markdown object>"
            ],
            "text/markdown": ".\n\n### Respuesta:\nEl cielo está oscuro y sombrío,\nLas nubes están bajas y pesadas.\nEl viento aúlla y llora,\nMientras la lluvia cae con gran estruendo.\n\nLas calles están mojadas y resbaladizas,\nEl suelo está cubierto con una manta.\nLos árboles se mecen y susurran,\nMientras la lluvia los envuelve con un beso.\n\nEl trueno retumba y estremece,\nMientras la lluvia golpea con gran fuerza.\nLos relámpagos iluminan el cielo,\nMientras la lluvia sigue cayendo sin cesar.\n\nLa noche está oscura y sombría,\nEl cielo está lleno de un gran manto.\nLa lluvia ha cesado y el sol brilla,\nPero el suelo sigue mojado y manchado.\n\nLa vida ha vuelto a su curso,\nPero la lluvia siempre estará aquí.\nEl tiempo pasará y la lluvia caerá,\nHasta que toda la tristeza desaparecerá."
          },
          "metadata": {}
        }
      ]
    },
    {
      "cell_type": "code",
      "source": [
        "printmd(llm(\"Me puedes decir que es la conciencia?\"))"
      ],
      "metadata": {
        "colab": {
          "base_uri": "https://localhost:8080/",
          "height": 135
        },
        "id": "U8kccuP4tj9-",
        "outputId": "b7f96228-27cc-49b5-f4be-b2b17bb07fc7"
      },
      "execution_count": 12,
      "outputs": [
        {
          "output_type": "stream",
          "name": "stderr",
          "text": [
            "Setting `pad_token_id` to `eos_token_id`:50256 for open-end generation.\n"
          ]
        },
        {
          "output_type": "display_data",
          "data": {
            "text/plain": [
              "<IPython.core.display.Markdown object>"
            ],
            "text/markdown": "\n\n### Respuesta:\nLa conciencia es la capacidad de ser consciente de uno mismo y del mundo que nos rodea. Es el proceso de ser consciente de los estímulos externos, reconocerlos, comprenderlos y responder a ellos de manera reflexiva. Implica estar despierto, alerta y consciente de los estímulos externos, así como ser capaz de comprender, reconocer y responder a estos estímulos."
          },
          "metadata": {}
        }
      ]
    },
    {
      "cell_type": "markdown",
      "source": [
        "### Test model using templates"
      ],
      "metadata": {
        "id": "h1JY8HVHnChA"
      }
    },
    {
      "cell_type": "code",
      "source": [
        "langchain.debug = True"
      ],
      "metadata": {
        "id": "nFIAQBIh4OUN"
      },
      "execution_count": 13,
      "outputs": []
    },
    {
      "cell_type": "code",
      "source": [
        "template = \"\"\"\n",
        "  Eres un chatbot experto en psicologia y neurociencia.\n",
        "  Responde a la siguiente pregunta con respuestas brillantes.\n",
        "  Sólo tienes que escribir la respuesta, no más.\n",
        "  Pregunta: {pregunta}\n",
        "  Respuesta:\n",
        "\"\"\"\n",
        "\n",
        "prompt = PromptTemplate(template=template, input_variables=[\"pregunta\"])\n",
        "\n",
        "llm_chain = LLMChain(prompt=prompt, llm=llm)\n",
        "\n",
        "question = \"Explicame que es la atencion?\"\n",
        "\n",
        "ans = llm_chain.run(question)\n",
        "\n",
        "printmd(ans)"
      ],
      "metadata": {
        "colab": {
          "base_uri": "https://localhost:8080/",
          "height": 587
        },
        "id": "efYWwHf7Ap9q",
        "outputId": "3a19048d-92e6-473a-c046-dc49c964efe9"
      },
      "execution_count": 14,
      "outputs": [
        {
          "output_type": "stream",
          "name": "stderr",
          "text": [
            "Setting `pad_token_id` to `eos_token_id`:50256 for open-end generation.\n"
          ]
        },
        {
          "output_type": "stream",
          "name": "stdout",
          "text": [
            "\u001b[32;1m\u001b[1;3m[chain/start]\u001b[0m \u001b[1m[1:chain:LLMChain] Entering Chain run with input:\n",
            "\u001b[0m{\n",
            "  \"pregunta\": \"Explicame que es la atencion?\"\n",
            "}\n",
            "\u001b[32;1m\u001b[1;3m[llm/start]\u001b[0m \u001b[1m[1:chain:LLMChain > 2:llm:HuggingFacePipeline] Entering LLM run with input:\n",
            "\u001b[0m{\n",
            "  \"prompts\": [\n",
            "    \"Eres un chatbot experto en psicologia y neurociencia.\\n  Responde a la siguiente pregunta con respuestas brillantes.\\n  Sólo tienes que escribir la respuesta, no más.\\n  Pregunta: Explicame que es la atencion?\\n  Respuesta:\"\n",
            "  ]\n",
            "}\n",
            "\u001b[36;1m\u001b[1;3m[llm/end]\u001b[0m \u001b[1m[1:chain:LLMChain > 2:llm:HuggingFacePipeline] [11.33s] Exiting LLM run with output:\n",
            "\u001b[0m{\n",
            "  \"generations\": [\n",
            "    [\n",
            "      {\n",
            "        \"text\": \"La atención es la capacidad de enfocarse y prestar atención a algo. Es un proceso cognitivo que nos ayuda a seleccionar y concentrarnos en ciertos estímulos mientras ignoramos otros. Es un componente crítico del aprendizaje y la memoria. Sin atención adecuada, no podemos procesar información nueva o recuperar información antigua con precisión.\",\n",
            "        \"generation_info\": null\n",
            "      }\n",
            "    ]\n",
            "  ],\n",
            "  \"llm_output\": null,\n",
            "  \"run\": null\n",
            "}\n",
            "\u001b[36;1m\u001b[1;3m[chain/end]\u001b[0m \u001b[1m[1:chain:LLMChain] [11.33s] Exiting Chain run with output:\n",
            "\u001b[0m{\n",
            "  \"text\": \"La atención es la capacidad de enfocarse y prestar atención a algo. Es un proceso cognitivo que nos ayuda a seleccionar y concentrarnos en ciertos estímulos mientras ignoramos otros. Es un componente crítico del aprendizaje y la memoria. Sin atención adecuada, no podemos procesar información nueva o recuperar información antigua con precisión.\"\n",
            "}\n"
          ]
        },
        {
          "output_type": "display_data",
          "data": {
            "text/plain": [
              "<IPython.core.display.Markdown object>"
            ],
            "text/markdown": "La atención es la capacidad de enfocarse y prestar atención a algo. Es un proceso cognitivo que nos ayuda a seleccionar y concentrarnos en ciertos estímulos mientras ignoramos otros. Es un componente crítico del aprendizaje y la memoria. Sin atención adecuada, no podemos procesar información nueva o recuperar información antigua con precisión."
          },
          "metadata": {}
        }
      ]
    },
    {
      "cell_type": "code",
      "source": [
        "template = \"\"\"\n",
        "  Eres un chatbot inteligente, experto en Python, conoces todo sobre el lenguaje.\n",
        "  Solo tienes responder a la pregunta no más.\n",
        "  Pregunta: {pregunta}\n",
        "  Respuesta:\n",
        "\"\"\"\n",
        "\n",
        "prompt = PromptTemplate(template=template, input_variables=[\"pregunta\"])\n",
        "\n",
        "llm_chain = LLMChain(prompt=prompt, llm=llm)\n",
        "\n",
        "question = \"Que es un diccionario?\"\n",
        "print(prompt)\n",
        "printmd(llm_chain.run(question))"
      ],
      "metadata": {
        "colab": {
          "base_uri": "https://localhost:8080/",
          "height": 587
        },
        "id": "FJIrMNkClpFm",
        "outputId": "426d7a44-57f2-45f1-cdf3-527149b168e1"
      },
      "execution_count": 15,
      "outputs": [
        {
          "output_type": "stream",
          "name": "stderr",
          "text": [
            "Setting `pad_token_id` to `eos_token_id`:50256 for open-end generation.\n"
          ]
        },
        {
          "output_type": "stream",
          "name": "stdout",
          "text": [
            "input_variables=['pregunta'] output_parser=None partial_variables={} template='\\n  Eres un chatbot inteligente, experto en Python, conoces todo sobre el lenguaje.\\n  Solo tienes responder a la pregunta no más.\\n  Pregunta: {pregunta}\\n  Respuesta:\\n' template_format='f-string' validate_template=True\n",
            "\u001b[32;1m\u001b[1;3m[chain/start]\u001b[0m \u001b[1m[1:chain:LLMChain] Entering Chain run with input:\n",
            "\u001b[0m{\n",
            "  \"pregunta\": \"Que es un diccionario?\"\n",
            "}\n",
            "\u001b[32;1m\u001b[1;3m[llm/start]\u001b[0m \u001b[1m[1:chain:LLMChain > 2:llm:HuggingFacePipeline] Entering LLM run with input:\n",
            "\u001b[0m{\n",
            "  \"prompts\": [\n",
            "    \"Eres un chatbot inteligente, experto en Python, conoces todo sobre el lenguaje.\\n  Solo tienes responder a la pregunta no más.\\n  Pregunta: Que es un diccionario?\\n  Respuesta:\"\n",
            "  ]\n",
            "}\n",
            "\u001b[36;1m\u001b[1;3m[llm/end]\u001b[0m \u001b[1m[1:chain:LLMChain > 2:llm:HuggingFacePipeline] [9.87s] Exiting LLM run with output:\n",
            "\u001b[0m{\n",
            "  \"generations\": [\n",
            "    [\n",
            "      {\n",
            "        \"text\": \"  Un diccionario es una estructura de datos que almacena pares de clave-valor. Se utiliza para almacenar y recuperar información de manera estructurada. En Python, un diccionario se crea utilizando la sintaxis {key: valor} o {key:} para especificar una clave y {valor: } para especificar un valor.\",\n",
            "        \"generation_info\": null\n",
            "      }\n",
            "    ]\n",
            "  ],\n",
            "  \"llm_output\": null,\n",
            "  \"run\": null\n",
            "}\n",
            "\u001b[36;1m\u001b[1;3m[chain/end]\u001b[0m \u001b[1m[1:chain:LLMChain] [9.87s] Exiting Chain run with output:\n",
            "\u001b[0m{\n",
            "  \"text\": \"  Un diccionario es una estructura de datos que almacena pares de clave-valor. Se utiliza para almacenar y recuperar información de manera estructurada. En Python, un diccionario se crea utilizando la sintaxis {key: valor} o {key:} para especificar una clave y {valor: } para especificar un valor.\"\n",
            "}\n"
          ]
        },
        {
          "output_type": "display_data",
          "data": {
            "text/plain": [
              "<IPython.core.display.Markdown object>"
            ],
            "text/markdown": "  Un diccionario es una estructura de datos que almacena pares de clave-valor. Se utiliza para almacenar y recuperar información de manera estructurada. En Python, un diccionario se crea utilizando la sintaxis {key: valor} o {key:} para especificar una clave y {valor: } para especificar un valor."
          },
          "metadata": {}
        }
      ]
    },
    {
      "cell_type": "code",
      "source": [
        "question = \"Cuales son los tipos de datos basicos en python?\"\n",
        "\n",
        "printmd(llm_chain.run(question))"
      ],
      "metadata": {
        "colab": {
          "base_uri": "https://localhost:8080/",
          "height": 697
        },
        "id": "3zM679ZcuGVD",
        "outputId": "ff02a838-b9a7-44ce-c1f4-646961eccad0"
      },
      "execution_count": 17,
      "outputs": [
        {
          "output_type": "stream",
          "name": "stderr",
          "text": [
            "Setting `pad_token_id` to `eos_token_id`:50256 for open-end generation.\n"
          ]
        },
        {
          "output_type": "stream",
          "name": "stdout",
          "text": [
            "\u001b[32;1m\u001b[1;3m[chain/start]\u001b[0m \u001b[1m[1:chain:LLMChain] Entering Chain run with input:\n",
            "\u001b[0m{\n",
            "  \"pregunta\": \"Cuales son los tipos de datos basicos en python?\"\n",
            "}\n",
            "\u001b[32;1m\u001b[1;3m[llm/start]\u001b[0m \u001b[1m[1:chain:LLMChain > 2:llm:HuggingFacePipeline] Entering LLM run with input:\n",
            "\u001b[0m{\n",
            "  \"prompts\": [\n",
            "    \"Eres un chatbot inteligente, experto en Python, conoces todo sobre el lenguaje.\\n  Solo tienes responder a la pregunta no más.\\n  Pregunta: Cuales son los tipos de datos basicos en python?\\n  Respuesta:\"\n",
            "  ]\n",
            "}\n",
            "\u001b[36;1m\u001b[1;3m[llm/end]\u001b[0m \u001b[1m[1:chain:LLMChain > 2:llm:HuggingFacePipeline] [5.81s] Exiting LLM run with output:\n",
            "\u001b[0m{\n",
            "  \"generations\": [\n",
            "    [\n",
            "      {\n",
            "        \"text\": \"En Python, los tipos de datos básicos son: \\n- Enteros \\n- Decimales \\n- Flotantes \\n- Bases de datos \\n- Cadenas \\n- Tuplas \\n- Listas \\n- Conjuntos\",\n",
            "        \"generation_info\": null\n",
            "      }\n",
            "    ]\n",
            "  ],\n",
            "  \"llm_output\": null,\n",
            "  \"run\": null\n",
            "}\n",
            "\u001b[36;1m\u001b[1;3m[chain/end]\u001b[0m \u001b[1m[1:chain:LLMChain] [5.81s] Exiting Chain run with output:\n",
            "\u001b[0m{\n",
            "  \"text\": \"En Python, los tipos de datos básicos son: \\n- Enteros \\n- Decimales \\n- Flotantes \\n- Bases de datos \\n- Cadenas \\n- Tuplas \\n- Listas \\n- Conjuntos\"\n",
            "}\n"
          ]
        },
        {
          "output_type": "display_data",
          "data": {
            "text/plain": [
              "<IPython.core.display.Markdown object>"
            ],
            "text/markdown": "En Python, los tipos de datos básicos son: \n- Enteros \n- Decimales \n- Flotantes \n- Bases de datos \n- Cadenas \n- Tuplas \n- Listas \n- Conjuntos"
          },
          "metadata": {}
        }
      ]
    },
    {
      "cell_type": "markdown",
      "source": [
        "# Sequential Chains"
      ],
      "metadata": {
        "id": "3yeZRtVTMRdT"
      }
    },
    {
      "cell_type": "code",
      "source": [
        "from langchain.chains import SimpleSequentialChain\n",
        "from langchain.prompts import ChatPromptTemplate\n"
      ],
      "metadata": {
        "id": "OcMkpXULLxKe"
      },
      "execution_count": 18,
      "outputs": []
    },
    {
      "cell_type": "code",
      "source": [
        "# prompt template 1\n",
        "first_prompt = ChatPromptTemplate.from_template(\n",
        "    \"pregunta: Cual es el mejor nombre para describir una empresa que fabrica {producto}, solo dame un nombre inovador e interesante y solo responde con el nombre. respuesta:\"\n",
        ")\n",
        "\n",
        "# Chain 1\n",
        "chain_one = LLMChain(llm=llm, prompt=first_prompt)"
      ],
      "metadata": {
        "id": "U4yHC17WMZHN"
      },
      "execution_count": 19,
      "outputs": []
    },
    {
      "cell_type": "code",
      "source": [
        "# prompt template 2\n",
        "second_prompt = ChatPromptTemplate.from_template(\n",
        "    #\"Write a description for the following company:{company_name}\"\n",
        "    \"Escribe una descripcion creativa de la siguiente compañia: {company_name}\"\n",
        ")\n",
        "# chain 2\n",
        "chain_two = LLMChain(llm=llm, prompt=second_prompt)"
      ],
      "metadata": {
        "id": "dI8yi9RdM46Z"
      },
      "execution_count": 20,
      "outputs": []
    },
    {
      "cell_type": "code",
      "source": [
        "overall_simple_chain = SimpleSequentialChain(\n",
        "    chains=[chain_one, chain_two],\n",
        "    verbose=True\n",
        "    )"
      ],
      "metadata": {
        "id": "X0CA5FNXM8el"
      },
      "execution_count": 21,
      "outputs": []
    },
    {
      "cell_type": "code",
      "source": [
        "product = \"Burritos veganos\"\n",
        "printmd(overall_simple_chain.run(product))"
      ],
      "metadata": {
        "colab": {
          "base_uri": "https://localhost:8080/",
          "height": 1000
        },
        "id": "ogdwAagPNE_w",
        "outputId": "2b4d1b01-1c21-4d02-9210-0be10e70b065"
      },
      "execution_count": 22,
      "outputs": [
        {
          "output_type": "stream",
          "name": "stderr",
          "text": [
            "/usr/local/lib/python3.10/dist-packages/transformers/pipelines/base.py:1081: UserWarning: You seem to be using the pipelines sequentially on GPU. In order to maximize efficiency please use a dataset\n",
            "  warnings.warn(\n",
            "Setting `pad_token_id` to `eos_token_id`:50256 for open-end generation.\n"
          ]
        },
        {
          "output_type": "stream",
          "name": "stdout",
          "text": [
            "\u001b[32;1m\u001b[1;3m[chain/start]\u001b[0m \u001b[1m[1:chain:SimpleSequentialChain] Entering Chain run with input:\n",
            "\u001b[0m{\n",
            "  \"input\": \"Burritos veganos\"\n",
            "}\n",
            "\u001b[32;1m\u001b[1;3m[chain/start]\u001b[0m \u001b[1m[1:chain:SimpleSequentialChain > 2:chain:LLMChain] Entering Chain run with input:\n",
            "\u001b[0m{\n",
            "  \"producto\": \"Burritos veganos\"\n",
            "}\n",
            "\u001b[32;1m\u001b[1;3m[llm/start]\u001b[0m \u001b[1m[1:chain:SimpleSequentialChain > 2:chain:LLMChain > 3:llm:HuggingFacePipeline] Entering LLM run with input:\n",
            "\u001b[0m{\n",
            "  \"prompts\": [\n",
            "    \"Human: pregunta: Cual es el mejor nombre para describir una empresa que fabrica Burritos veganos, solo dame un nombre inovador e interesante y solo responde con el nombre. respuesta:\"\n",
            "  ]\n",
            "}\n"
          ]
        },
        {
          "output_type": "stream",
          "name": "stderr",
          "text": [
            "Setting `pad_token_id` to `eos_token_id`:50256 for open-end generation.\n"
          ]
        },
        {
          "output_type": "stream",
          "name": "stdout",
          "text": [
            "\u001b[36;1m\u001b[1;3m[llm/end]\u001b[0m \u001b[1m[1:chain:SimpleSequentialChain > 2:chain:LLMChain > 3:llm:HuggingFacePipeline] [2.62s] Exiting LLM run with output:\n",
            "\u001b[0m{\n",
            "  \"generations\": [\n",
            "    [\n",
            "      {\n",
            "        \"text\": \" \\\"El Rey de los Burritos Veganos\\\".\",\n",
            "        \"generation_info\": null\n",
            "      }\n",
            "    ]\n",
            "  ],\n",
            "  \"llm_output\": null,\n",
            "  \"run\": null\n",
            "}\n",
            "\u001b[36;1m\u001b[1;3m[chain/end]\u001b[0m \u001b[1m[1:chain:SimpleSequentialChain > 2:chain:LLMChain] [2.62s] Exiting Chain run with output:\n",
            "\u001b[0m{\n",
            "  \"text\": \" \\\"El Rey de los Burritos Veganos\\\".\"\n",
            "}\n",
            "\u001b[32;1m\u001b[1;3m[chain/start]\u001b[0m \u001b[1m[1:chain:SimpleSequentialChain > 4:chain:LLMChain] Entering Chain run with input:\n",
            "\u001b[0m{\n",
            "  \"company_name\": \" \\\"El Rey de los Burritos Veganos\\\".\"\n",
            "}\n",
            "\u001b[32;1m\u001b[1;3m[llm/start]\u001b[0m \u001b[1m[1:chain:SimpleSequentialChain > 4:chain:LLMChain > 5:llm:HuggingFacePipeline] Entering LLM run with input:\n",
            "\u001b[0m{\n",
            "  \"prompts\": [\n",
            "    \"Human: Escribe una descripcion creativa de la siguiente compañia:  \\\"El Rey de los Burritos Veganos\\\".\"\n",
            "  ]\n",
            "}\n",
            "\u001b[36;1m\u001b[1;3m[llm/end]\u001b[0m \u001b[1m[1:chain:SimpleSequentialChain > 4:chain:LLMChain > 5:llm:HuggingFacePipeline] [19.16s] Exiting LLM run with output:\n",
            "\u001b[0m{\n",
            "  \"generations\": [\n",
            "    [\n",
            "      {\n",
            "        \"text\": \" \\n\\n### Respuesta:\\nEl Rey de los Burritos Veganos es una deliciosa opción para aquellos que buscan una comida sabrosa y saludable. Ofreciendo una amplia variedad de sabrosos burritos veganos, este restaurante seguramente complacerá a todos los paladares. Desde burritos de frijoles negros hasta tacos de camote, estos deliciosos burritos seguramente sorprenderán incluso a los comensales más exigentes. Con un ambiente acogedor y un personal amable, El Rey de los Burritos Veganos es el lugar perfecto para un almuerzo rápido o una cena relajante. ¡Así que ven y déjanos satisfacer tu antojo de un delicioso burrito vegano!\",\n",
            "        \"generation_info\": null\n",
            "      }\n",
            "    ]\n",
            "  ],\n",
            "  \"llm_output\": null,\n",
            "  \"run\": null\n",
            "}\n",
            "\u001b[36;1m\u001b[1;3m[chain/end]\u001b[0m \u001b[1m[1:chain:SimpleSequentialChain > 4:chain:LLMChain] [19.16s] Exiting Chain run with output:\n",
            "\u001b[0m{\n",
            "  \"text\": \" \\n\\n### Respuesta:\\nEl Rey de los Burritos Veganos es una deliciosa opción para aquellos que buscan una comida sabrosa y saludable. Ofreciendo una amplia variedad de sabrosos burritos veganos, este restaurante seguramente complacerá a todos los paladares. Desde burritos de frijoles negros hasta tacos de camote, estos deliciosos burritos seguramente sorprenderán incluso a los comensales más exigentes. Con un ambiente acogedor y un personal amable, El Rey de los Burritos Veganos es el lugar perfecto para un almuerzo rápido o una cena relajante. ¡Así que ven y déjanos satisfacer tu antojo de un delicioso burrito vegano!\"\n",
            "}\n",
            "\u001b[36;1m\u001b[1;3m[chain/end]\u001b[0m \u001b[1m[1:chain:SimpleSequentialChain] [21.79s] Exiting Chain run with output:\n",
            "\u001b[0m{\n",
            "  \"output\": \" \\n\\n### Respuesta:\\nEl Rey de los Burritos Veganos es una deliciosa opción para aquellos que buscan una comida sabrosa y saludable. Ofreciendo una amplia variedad de sabrosos burritos veganos, este restaurante seguramente complacerá a todos los paladares. Desde burritos de frijoles negros hasta tacos de camote, estos deliciosos burritos seguramente sorprenderán incluso a los comensales más exigentes. Con un ambiente acogedor y un personal amable, El Rey de los Burritos Veganos es el lugar perfecto para un almuerzo rápido o una cena relajante. ¡Así que ven y déjanos satisfacer tu antojo de un delicioso burrito vegano!\"\n",
            "}\n"
          ]
        },
        {
          "output_type": "display_data",
          "data": {
            "text/plain": [
              "<IPython.core.display.Markdown object>"
            ],
            "text/markdown": " \n\n### Respuesta:\nEl Rey de los Burritos Veganos es una deliciosa opción para aquellos que buscan una comida sabrosa y saludable. Ofreciendo una amplia variedad de sabrosos burritos veganos, este restaurante seguramente complacerá a todos los paladares. Desde burritos de frijoles negros hasta tacos de camote, estos deliciosos burritos seguramente sorprenderán incluso a los comensales más exigentes. Con un ambiente acogedor y un personal amable, El Rey de los Burritos Veganos es el lugar perfecto para un almuerzo rápido o una cena relajante. ¡Así que ven y déjanos satisfacer tu antojo de un delicioso burrito vegano!"
          },
          "metadata": {}
        }
      ]
    }
  ]
}