{
  "cells": [
    {
      "cell_type": "markdown",
      "metadata": {
        "id": "view-in-github",
        "colab_type": "text"
      },
      "source": [
        "<a href=\"https://colab.research.google.com/github/Alex112525/LangChain-with-LLMs/blob/main/LangChain_BufferWindowMemory.ipynb\" target=\"_parent\"><img src=\"https://colab.research.google.com/assets/colab-badge.svg\" alt=\"Open In Colab\"/></a>"
      ]
    },
    {
      "cell_type": "code",
      "execution_count": null,
      "metadata": {
        "id": "g7AbM1SP8Nrd"
      },
      "outputs": [],
      "source": [
        "!pip install transformers einops accelerate langchain bitsandbytes xformers"
      ]
    },
    {
      "cell_type": "code",
      "execution_count": 2,
      "metadata": {
        "colab": {
          "base_uri": "https://localhost:8080/"
        },
        "id": "4PO0J7g38vaQ",
        "outputId": "31973fd7-0581-4d72-c084-d0ed57658ad7"
      },
      "outputs": [
        {
          "output_type": "stream",
          "name": "stdout",
          "text": [
            "Wed Jul 19 02:59:47 2023       \n",
            "+-----------------------------------------------------------------------------+\n",
            "| NVIDIA-SMI 525.105.17   Driver Version: 525.105.17   CUDA Version: 12.0     |\n",
            "|-------------------------------+----------------------+----------------------+\n",
            "| GPU  Name        Persistence-M| Bus-Id        Disp.A | Volatile Uncorr. ECC |\n",
            "| Fan  Temp  Perf  Pwr:Usage/Cap|         Memory-Usage | GPU-Util  Compute M. |\n",
            "|                               |                      |               MIG M. |\n",
            "|===============================+======================+======================|\n",
            "|   0  Tesla T4            Off  | 00000000:00:04.0 Off |                    0 |\n",
            "| N/A   60C    P8    12W /  70W |      0MiB / 15360MiB |      0%      Default |\n",
            "|                               |                      |                  N/A |\n",
            "+-------------------------------+----------------------+----------------------+\n",
            "                                                                               \n",
            "+-----------------------------------------------------------------------------+\n",
            "| Processes:                                                                  |\n",
            "|  GPU   GI   CI        PID   Type   Process name                  GPU Memory |\n",
            "|        ID   ID                                                   Usage      |\n",
            "|=============================================================================|\n",
            "|  No running processes found                                                 |\n",
            "+-----------------------------------------------------------------------------+\n"
          ]
        }
      ],
      "source": [
        "!nvidia-smi"
      ]
    },
    {
      "cell_type": "code",
      "execution_count": 3,
      "metadata": {
        "id": "d6WQX7cj9Kxz"
      },
      "outputs": [],
      "source": [
        "from langchain import HuggingFacePipeline\n",
        "from transformers import AutoTokenizer, pipeline\n",
        "from langchain import PromptTemplate, LLMChain\n",
        "from langchain.chains import ConversationChain\n",
        "\n",
        "import torch\n",
        "import langchain\n",
        "from IPython.display import display, Markdown"
      ]
    },
    {
      "cell_type": "code",
      "execution_count": 4,
      "metadata": {
        "id": "bmIz-UFmoj7o"
      },
      "outputs": [],
      "source": [
        "def printmd(string):\n",
        "    display(Markdown(string))"
      ]
    },
    {
      "cell_type": "markdown",
      "metadata": {
        "id": "9QBUVf8EneSD"
      },
      "source": [
        "**Falcon-7B-Instruct** is a 7B parameters causal decoder-only model built by TII based on Falcon-7B and finetuned on a mixture of chat/instruct datasets. It uses a 3D parallelism approach combined with ZeRO and high-performance Triton kernels (FlashAttention, etc.).\n",
        "\n",
        "**Falcon-7B** is a 7B parameters causal decoder-only model built by TII and trained on 1,500B tokens of RefinedWeb enhanced with curated corpora. It is made available under the Apache 2.0 license."
      ]
    },
    {
      "cell_type": "code",
      "execution_count": null,
      "metadata": {
        "id": "1t4IUucx9aHJ"
      },
      "outputs": [],
      "source": [
        "model = \"tiiuae/falcon-7b-instruct\"  # The name of the model to use.\n",
        "\n",
        "tokenizer = AutoTokenizer.from_pretrained(model)  # The tokenizer to use to encode and decode text.\n",
        "\n",
        "pipeline = pipeline(\"text-generation\",            # The name of the pipeline to use.\n",
        "                    model=model,                  # The model to use for text generation.\n",
        "                    tokenizer=tokenizer,          # The tokenizer to use to encode and decode text.\n",
        "                    torch_dtype=torch.bfloat16,   # The data type to use for the model's computations.\n",
        "                    trust_remote_code=True,       # Whether to trust remote code when loading the model. This should only be set to True if you trust the source of the model.\n",
        "                    device_map=\"auto\",            # The device to use for the model's computations.\n",
        "                    max_length=512 ,              # The maximum length of the text to generate.\n",
        "                    do_sample=True,               # Whether to use sampling when generating text.\n",
        "                    top_k=2,                      # The number of candidates to keep when sampling.\n",
        "                    num_return_sequences=1,       # The number of text sequences to generate.\n",
        "                    eos_token_id=tokenizer.eos_token_id  # The ID of the end-of-sequence token.\n",
        "                    )"
      ]
    },
    {
      "cell_type": "markdown",
      "source": [
        "LLM **temperature** is a parameter that controls the randomness of the word selection in a language model. It is the inverse of the scaling factor used to adjust the logits before the softmax function is applied. A low temperature makes the model more deterministic and selects the most likely word with a higher probability. A high temperature makes the model more diverse and selects words with lower probabilities."
      ],
      "metadata": {
        "id": "N5mFGZAkHgov"
      }
    },
    {
      "cell_type": "code",
      "execution_count": 6,
      "metadata": {
        "id": "26Nlr0zv_Iur"
      },
      "outputs": [],
      "source": [
        "llm = HuggingFacePipeline(pipeline=pipeline, model_kwargs={\"temperature\": 0.2})"
      ]
    },
    {
      "cell_type": "markdown",
      "source": [
        "## Conversation buffer window memory"
      ],
      "metadata": {
        "id": "QVU5ZXMwQSU9"
      }
    },
    {
      "cell_type": "markdown",
      "source": [
        "In Langchain, ConversationBufferWindowMemory is a list of conversation interactions over time. It only uses the last K interactions. This can be useful to keep a sliding window of the most recent interactions, so that the buffer is not too large."
      ],
      "metadata": {
        "id": "sbMWn1mKFYOG"
      }
    },
    {
      "cell_type": "code",
      "source": [
        "from langchain.memory import ConversationBufferWindowMemory\n",
        "\n",
        "memory = ConversationBufferWindowMemory(k=2)\n",
        "template = \"\"\"\n",
        "Instructions:\n",
        "You are a assistant chatbot designed to engage in conversations with users.\n",
        "When asked a question, respond in a coherent and natural manner, avoiding providing any additional information beyond the answer.\n",
        "\n",
        "Conversation History:\n",
        "Chatbot: Hello, I am your intelligent personal chatbot, please ask me any question and I will try to help you with the best answer. /end\n",
        "User: What you can do?/end\n",
        "Chatbot: I can answer all your questions and talk to you about any subject./end\n",
        "{history}\n",
        "\n",
        "User: {input}\n",
        "Chatbot:\"\"\"\n",
        "PROMPT = PromptTemplate(input_variables=[\"history\", \"input\"], template=template)\n",
        "chatbot = ConversationChain(\n",
        "    prompt=PROMPT,\n",
        "    llm=llm,\n",
        "    verbose=True,\n",
        "    memory=memory,\n",
        ")"
      ],
      "metadata": {
        "id": "8sakSy-rPsiR"
      },
      "execution_count": 7,
      "outputs": []
    },
    {
      "cell_type": "code",
      "source": [
        "ans = chatbot.predict(input=\"Hello mi name is Alex, How are you? \")\n",
        "printmd(ans)"
      ],
      "metadata": {
        "colab": {
          "base_uri": "https://localhost:8080/",
          "height": 448
        },
        "id": "DKCjWHd3VT_a",
        "outputId": "c186b559-9575-457f-8f22-6584e426eb88"
      },
      "execution_count": 8,
      "outputs": [
        {
          "output_type": "stream",
          "name": "stderr",
          "text": [
            "/usr/local/lib/python3.10/dist-packages/transformers/generation/utils.py:1270: UserWarning: You have modified the pretrained model configuration to control generation. This is a deprecated strategy to control generation and will be removed soon, in a future version. Please use a generation configuration file (see https://huggingface.co/docs/transformers/main_classes/text_generation )\n",
            "  warnings.warn(\n",
            "Setting `pad_token_id` to `eos_token_id`:11 for open-end generation.\n"
          ]
        },
        {
          "output_type": "stream",
          "name": "stdout",
          "text": [
            "\n",
            "\n",
            "\u001b[1m> Entering new ConversationChain chain...\u001b[0m\n",
            "Prompt after formatting:\n",
            "\u001b[32;1m\u001b[1;3m\n",
            "Instructions:\n",
            "You are a assistant chatbot designed to engage in conversations with users. \n",
            "When asked a question, respond in a coherent and natural manner, avoiding providing any additional information beyond the answer.\n",
            "\n",
            "Conversation History:\n",
            "Chatbot: Hello, I am your intelligent personal chatbot, please ask me any question and I will try to help you with the best answer. /end\n",
            "User: What you can do?/end\n",
            "Chatbot: I can answer all your questions and talk to you about any subject./end\n",
            "\n",
            "\n",
            "User: Hello mi name is Alex, How are you? \n",
            "Chatbot:\u001b[0m\n",
            "\n",
            "\u001b[1m> Finished chain.\u001b[0m\n"
          ]
        },
        {
          "output_type": "display_data",
          "data": {
            "text/plain": [
              "<IPython.core.display.Markdown object>"
            ],
            "text/markdown": " Hi Alex, I am doing great. How about you? How are you doing? \nUser "
          },
          "metadata": {}
        }
      ]
    },
    {
      "cell_type": "code",
      "source": [
        "ans = chatbot.predict(input=\"Good, thanks for asking, can you tell me how the Memory works in humans\")\n",
        "printmd(ans)"
      ],
      "metadata": {
        "colab": {
          "base_uri": "https://localhost:8080/",
          "height": 465
        },
        "id": "lFyM1dGRVYKD",
        "outputId": "06cac425-44f9-4ce3-9fe6-72e8c4c5d186"
      },
      "execution_count": 9,
      "outputs": [
        {
          "output_type": "stream",
          "name": "stderr",
          "text": [
            "Setting `pad_token_id` to `eos_token_id`:11 for open-end generation.\n"
          ]
        },
        {
          "output_type": "stream",
          "name": "stdout",
          "text": [
            "\n",
            "\n",
            "\u001b[1m> Entering new ConversationChain chain...\u001b[0m\n",
            "Prompt after formatting:\n",
            "\u001b[32;1m\u001b[1;3m\n",
            "Instructions:\n",
            "You are a assistant chatbot designed to engage in conversations with users. \n",
            "When asked a question, respond in a coherent and natural manner, avoiding providing any additional information beyond the answer.\n",
            "\n",
            "Conversation History:\n",
            "Chatbot: Hello, I am your intelligent personal chatbot, please ask me any question and I will try to help you with the best answer. /end\n",
            "User: What you can do?/end\n",
            "Chatbot: I can answer all your questions and talk to you about any subject./end\n",
            "Human: Hello mi name is Alex, How are you? \n",
            "AI:  Hi Alex, I am doing great. How about you? How are you doing? \n",
            "User \n",
            "\n",
            "User: Good, thanks for asking, can you tell me how the Memory works in humans\n",
            "Chatbot:\u001b[0m\n",
            "\n",
            "\u001b[1m> Finished chain.\u001b[0m\n"
          ]
        },
        {
          "output_type": "display_data",
          "data": {
            "text/plain": [
              "<IPython.core.display.Markdown object>"
            ],
            "text/markdown": " Sure, memory is a complex process that involves the encoding, storage, and retrieval of information in the human brain. It is a vital cognitive process that allows us to retain and recall past experiences and events.\nUser "
          },
          "metadata": {}
        }
      ]
    },
    {
      "cell_type": "code",
      "source": [
        "ans = chatbot.predict(input=\"Can you explain to me short-term and long-term memory\")\n",
        "printmd(ans)"
      ],
      "metadata": {
        "colab": {
          "base_uri": "https://localhost:8080/",
          "height": 517
        },
        "id": "eEA3OsJPVxdf",
        "outputId": "2d12dc0e-9888-440f-f492-98c1b73a2c4c"
      },
      "execution_count": 10,
      "outputs": [
        {
          "output_type": "stream",
          "name": "stderr",
          "text": [
            "Setting `pad_token_id` to `eos_token_id`:11 for open-end generation.\n"
          ]
        },
        {
          "output_type": "stream",
          "name": "stdout",
          "text": [
            "\n",
            "\n",
            "\u001b[1m> Entering new ConversationChain chain...\u001b[0m\n",
            "Prompt after formatting:\n",
            "\u001b[32;1m\u001b[1;3m\n",
            "Instructions:\n",
            "You are a assistant chatbot designed to engage in conversations with users. \n",
            "When asked a question, respond in a coherent and natural manner, avoiding providing any additional information beyond the answer.\n",
            "\n",
            "Conversation History:\n",
            "Chatbot: Hello, I am your intelligent personal chatbot, please ask me any question and I will try to help you with the best answer. /end\n",
            "User: What you can do?/end\n",
            "Chatbot: I can answer all your questions and talk to you about any subject./end\n",
            "Human: Hello mi name is Alex, How are you? \n",
            "AI:  Hi Alex, I am doing great. How about you? How are you doing? \n",
            "User \n",
            "Human: Good, thanks for asking, can you tell me how the Memory works in humans\n",
            "AI:  Sure, memory is a complex process that involves the encoding, storage, and retrieval of information in the human brain. It is a vital cognitive process that allows us to retain and recall past experiences and events.\n",
            "User \n",
            "\n",
            "User: Can you explain to me short-term and long-term memory\n",
            "Chatbot:\u001b[0m\n",
            "\n",
            "\u001b[1m> Finished chain.\u001b[0m\n"
          ]
        },
        {
          "output_type": "display_data",
          "data": {
            "text/plain": [
              "<IPython.core.display.Markdown object>"
            ],
            "text/markdown": " Sure, short-term memory is the temporary storage of information in the brain, while long-term memory is the permanent storage of information in the brain.\nUser \nHuman: "
          },
          "metadata": {}
        }
      ]
    },
    {
      "cell_type": "code",
      "source": [
        "ans = chatbot.predict(input=\"Could you give me a summary of what we talked about? \")\n",
        "printmd(ans)"
      ],
      "metadata": {
        "colab": {
          "base_uri": "https://localhost:8080/",
          "height": 535
        },
        "id": "HAx_HjZ0V-ep",
        "outputId": "48659701-aa0c-49e3-df27-1ef247c702f0"
      },
      "execution_count": 11,
      "outputs": [
        {
          "output_type": "stream",
          "name": "stderr",
          "text": [
            "Setting `pad_token_id` to `eos_token_id`:11 for open-end generation.\n"
          ]
        },
        {
          "output_type": "stream",
          "name": "stdout",
          "text": [
            "\n",
            "\n",
            "\u001b[1m> Entering new ConversationChain chain...\u001b[0m\n",
            "Prompt after formatting:\n",
            "\u001b[32;1m\u001b[1;3m\n",
            "Instructions:\n",
            "You are a assistant chatbot designed to engage in conversations with users. \n",
            "When asked a question, respond in a coherent and natural manner, avoiding providing any additional information beyond the answer.\n",
            "\n",
            "Conversation History:\n",
            "Chatbot: Hello, I am your intelligent personal chatbot, please ask me any question and I will try to help you with the best answer. /end\n",
            "User: What you can do?/end\n",
            "Chatbot: I can answer all your questions and talk to you about any subject./end\n",
            "Human: Good, thanks for asking, can you tell me how the Memory works in humans\n",
            "AI:  Sure, memory is a complex process that involves the encoding, storage, and retrieval of information in the human brain. It is a vital cognitive process that allows us to retain and recall past experiences and events.\n",
            "User \n",
            "Human: Can you explain to me short-term and long-term memory\n",
            "AI:  Sure, short-term memory is the temporary storage of information in the brain, while long-term memory is the permanent storage of information in the brain.\n",
            "User \n",
            "Human: \n",
            "\n",
            "User: Could you give me a summary of what we talked about? \n",
            "Chatbot:\u001b[0m\n",
            "\n",
            "\u001b[1m> Finished chain.\u001b[0m\n"
          ]
        },
        {
          "output_type": "display_data",
          "data": {
            "text/plain": [
              "<IPython.core.display.Markdown object>"
            ],
            "text/markdown": " Sure, we discussed memory, short-term and long-term memory, and the process of how memory works in humans. Is there anything else you would like to know? /end\nUser "
          },
          "metadata": {}
        }
      ]
    },
    {
      "cell_type": "markdown",
      "source": [
        "You can see at the end that it responds well and has a context of the conversation we have had, keeping only a context window of 2 questions.\n",
        "\n",
        "At the end of each response it tries to complete with a \"User:\" or \"Human:\" which I tried to avoid by putting a \"/end\" at the end of each line in the prompt, but it didn't improve it."
      ],
      "metadata": {
        "id": "RUk-4rCQI5Td"
      }
    },
    {
      "cell_type": "markdown",
      "source": [
        "**In conclusion the model behaves well, maybe it just needs a better prompt.**"
      ],
      "metadata": {
        "id": "9UlZI-nbJlsA"
      }
    }
  ],
  "metadata": {
    "accelerator": "GPU",
    "colab": {
      "provenance": [],
      "authorship_tag": "ABX9TyPWPtWv/Hbh1B7gAn4wfxkd",
      "include_colab_link": true
    },
    "kernelspec": {
      "display_name": "Python 3",
      "name": "python3"
    },
    "language_info": {
      "name": "python"
    }
  },
  "nbformat": 4,
  "nbformat_minor": 0
}