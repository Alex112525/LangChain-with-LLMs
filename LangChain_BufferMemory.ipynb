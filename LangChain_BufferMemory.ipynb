{
  "cells": [
    {
      "cell_type": "markdown",
      "metadata": {
        "id": "view-in-github",
        "colab_type": "text"
      },
      "source": [
        "<a href=\"https://colab.research.google.com/github/Alex112525/LangChain-with-LLMs/blob/main/LangChain_BufferMemory.ipynb\" target=\"_parent\"><img src=\"https://colab.research.google.com/assets/colab-badge.svg\" alt=\"Open In Colab\"/></a>"
      ]
    },
    {
      "cell_type": "code",
      "execution_count": null,
      "metadata": {
        "id": "g7AbM1SP8Nrd"
      },
      "outputs": [],
      "source": [
        "!pip install transformers einops accelerate langchain bitsandbytes xformers"
      ]
    },
    {
      "cell_type": "code",
      "execution_count": 2,
      "metadata": {
        "colab": {
          "base_uri": "https://localhost:8080/"
        },
        "id": "4PO0J7g38vaQ",
        "outputId": "14fd7704-c37e-4d50-edcb-e9d49f64c61a"
      },
      "outputs": [
        {
          "output_type": "stream",
          "name": "stdout",
          "text": [
            "Wed Jul 12 03:06:28 2023       \n",
            "+-----------------------------------------------------------------------------+\n",
            "| NVIDIA-SMI 525.85.12    Driver Version: 525.85.12    CUDA Version: 12.0     |\n",
            "|-------------------------------+----------------------+----------------------+\n",
            "| GPU  Name        Persistence-M| Bus-Id        Disp.A | Volatile Uncorr. ECC |\n",
            "| Fan  Temp  Perf  Pwr:Usage/Cap|         Memory-Usage | GPU-Util  Compute M. |\n",
            "|                               |                      |               MIG M. |\n",
            "|===============================+======================+======================|\n",
            "|   0  Tesla T4            Off  | 00000000:00:04.0 Off |                    0 |\n",
            "| N/A   59C    P8    10W /  70W |      0MiB / 15360MiB |      0%      Default |\n",
            "|                               |                      |                  N/A |\n",
            "+-------------------------------+----------------------+----------------------+\n",
            "                                                                               \n",
            "+-----------------------------------------------------------------------------+\n",
            "| Processes:                                                                  |\n",
            "|  GPU   GI   CI        PID   Type   Process name                  GPU Memory |\n",
            "|        ID   ID                                                   Usage      |\n",
            "|=============================================================================|\n",
            "|  No running processes found                                                 |\n",
            "+-----------------------------------------------------------------------------+\n"
          ]
        }
      ],
      "source": [
        "!nvidia-smi"
      ]
    },
    {
      "cell_type": "code",
      "execution_count": 3,
      "metadata": {
        "id": "d6WQX7cj9Kxz"
      },
      "outputs": [],
      "source": [
        "from langchain import HuggingFacePipeline\n",
        "from transformers import AutoTokenizer, pipeline\n",
        "from langchain import PromptTemplate, LLMChain\n",
        "\n",
        "import torch\n",
        "import langchain\n",
        "from IPython.display import display, Markdown"
      ]
    },
    {
      "cell_type": "code",
      "execution_count": 4,
      "metadata": {
        "id": "bmIz-UFmoj7o"
      },
      "outputs": [],
      "source": [
        "def printmd(string):\n",
        "    display(Markdown(string))"
      ]
    },
    {
      "cell_type": "markdown",
      "metadata": {
        "id": "9QBUVf8EneSD"
      },
      "source": [
        "**bertin-project/bertin-gpt-j-6B-alpaca** is an artificial intelligence language model based on the GPT-J 6B model. It is a Spanish version of this model that has been trained to generate Spanish text. The model was trained using the Alpaca dataset, which is a clean version of the Alpaca dataset created at Stanford."
      ]
    },
    {
      "cell_type": "code",
      "execution_count": null,
      "metadata": {
        "id": "1t4IUucx9aHJ"
      },
      "outputs": [],
      "source": [
        "model = \"bertin-project/bertin-gpt-j-6B-alpaca\"  # The name of the model to use.\n",
        "\n",
        "tokenizer = AutoTokenizer.from_pretrained(model)  # The tokenizer to use to encode and decode text.\n",
        "\n",
        "pipeline = pipeline(\"text-generation\",  # The name of the pipeline to use.\n",
        "                    model=model,  # The model to use for text generation.\n",
        "                    tokenizer=tokenizer,  # The tokenizer to use to encode and decode text.\n",
        "                    torch_dtype=torch.bfloat16,  # The data type to use for the model's computations.\n",
        "                    trust_remote_code=True,  # Whether to trust remote code when loading the model. This should only be set to True if you trust the source of the model.\n",
        "                    device_map=\"auto\",  # The device to use for the model's computations.\n",
        "                    max_length=512 ,  # The maximum length of the text to generate.\n",
        "                    do_sample=True,  # Whether to use sampling when generating text.\n",
        "                    top_k=2,  # The number of candidates to keep when sampling.\n",
        "                    num_return_sequences=1,  # The number of text sequences to generate.\n",
        "                    eos_token_id=tokenizer.eos_token_id  # The ID of the end-of-sequence token.\n",
        "                    )"
      ]
    },
    {
      "cell_type": "code",
      "execution_count": 63,
      "metadata": {
        "id": "26Nlr0zv_Iur"
      },
      "outputs": [],
      "source": [
        "llm = HuggingFacePipeline(pipeline=pipeline, model_kwargs={\"temperature\": 0.0})"
      ]
    },
    {
      "cell_type": "markdown",
      "metadata": {
        "id": "a0qZYDtZA13n"
      },
      "source": [
        "## Buffer Memory"
      ]
    },
    {
      "cell_type": "code",
      "execution_count": 7,
      "metadata": {
        "id": "TlGPzcTfA6c1"
      },
      "outputs": [],
      "source": [
        "from langchain.memory import ConversationBufferMemory\n",
        "from langchain import LLMChain, PromptTemplate\n",
        "from langchain.chains import ConversationChain"
      ]
    },
    {
      "cell_type": "code",
      "execution_count": 102,
      "metadata": {
        "id": "1gYCwfw6A0T3"
      },
      "outputs": [],
      "source": [
        "memory = ConversationBufferMemory(ai_prefix=\"IA\")\n",
        "template = \"\"\"\n",
        "Eres una IA conversacional de \"pregunta-respuesta\".\n",
        "El humano introducirá una pregunta y la IA responderá únicamente con la respuesta.\n",
        "Tu tarea es generar la respuesta de la IA y esperar la siguiente pregunta.\n",
        "Debes responder solo a las preguntas sin generar nada más.\n",
        "\n",
        "EJEMPLO:\n",
        "Humano: Hola, ¿cómo estás?\n",
        "IA: Bien, ¿y tú?\n",
        "Humano: Bien, gracias por preguntar.\n",
        "IA: ¿En qué puedo ayudarte?\n",
        "\n",
        "NO DEBES CONTINUAR LA CONVERSACIÓN, SOLO GENERAR LA RESPUESTA A LA PREGUNTA.\n",
        "\n",
        "Conversación actual:\n",
        "{history}\n",
        "Humano: {input}\n",
        "IA:\"\"\"\n",
        "PROMPT = PromptTemplate(input_variables=[\"history\", \"input\"], template=template)\n",
        "chatbot = ConversationChain(\n",
        "    prompt=PROMPT,\n",
        "    llm=llm,\n",
        "    verbose=True,\n",
        "    memory=memory,\n",
        ")"
      ]
    },
    {
      "cell_type": "code",
      "execution_count": 103,
      "metadata": {
        "colab": {
          "base_uri": "https://localhost:8080/",
          "height": 480
        },
        "id": "iVkNwxYgCEtv",
        "outputId": "a6124f07-2a15-442b-c927-5d8da9d9a2aa"
      },
      "outputs": [
        {
          "output_type": "stream",
          "name": "stderr",
          "text": [
            "Setting `pad_token_id` to `eos_token_id`:50256 for open-end generation.\n"
          ]
        },
        {
          "output_type": "stream",
          "name": "stdout",
          "text": [
            "\n",
            "\n",
            "\u001b[1m> Entering new  chain...\u001b[0m\n",
            "Prompt after formatting:\n",
            "\u001b[32;1m\u001b[1;3m\n",
            "Eres una IA conversacional de \"pregunta-respuesta\". \n",
            "El humano introducirá una pregunta y la IA responderá únicamente con la respuesta. \n",
            "Tu tarea es generar la respuesta de la IA y esperar la siguiente pregunta. \n",
            "Debes responder solo a las preguntas sin generar nada más.\n",
            "\n",
            "EJEMPLO:\n",
            "Humano: Hola, ¿cómo estás?\n",
            "IA: Bien, ¿y tú?\n",
            "Humano: Bien, gracias por preguntar.\n",
            "IA: ¿En qué puedo ayudarte?\n",
            "\n",
            "NO DEBES CONTINUAR LA CONVERSACIÓN, SOLO GENERAR LA RESPUESTA A LA PREGUNTA.\n",
            "\n",
            "Conversación actual:\n",
            "\n",
            "Humano: Hola, mi nombre es Alex, que cosas puedes hacer? \n",
            "IA:\u001b[0m\n",
            "\n",
            "\u001b[1m> Finished chain.\u001b[0m\n"
          ]
        },
        {
          "output_type": "display_data",
          "data": {
            "text/plain": [
              "<IPython.core.display.Markdown object>"
            ],
            "text/markdown": " Puedo ayudarte a encontrar información, leer noticias y conectarte con personas."
          },
          "metadata": {}
        }
      ],
      "source": [
        "ans = chatbot.predict(input = \"Hola, mi nombre es Alex, que cosas puedes hacer? \")\n",
        "printmd(ans)"
      ]
    },
    {
      "cell_type": "code",
      "source": [
        "ans = chatbot.predict(input = \"Me podrias dar consejos sobre como organizar mi tiempo?\")\n",
        "printmd(ans)"
      ],
      "metadata": {
        "colab": {
          "base_uri": "https://localhost:8080/",
          "height": 497
        },
        "id": "kMRmvWZOFu1P",
        "outputId": "30513395-c689-4df2-c25b-786fc60406c3"
      },
      "execution_count": 104,
      "outputs": [
        {
          "output_type": "stream",
          "name": "stderr",
          "text": [
            "Setting `pad_token_id` to `eos_token_id`:50256 for open-end generation.\n"
          ]
        },
        {
          "output_type": "stream",
          "name": "stdout",
          "text": [
            "\n",
            "\n",
            "\u001b[1m> Entering new  chain...\u001b[0m\n",
            "Prompt after formatting:\n",
            "\u001b[32;1m\u001b[1;3m\n",
            "Eres una IA conversacional de \"pregunta-respuesta\". \n",
            "El humano introducirá una pregunta y la IA responderá únicamente con la respuesta. \n",
            "Tu tarea es generar la respuesta de la IA y esperar la siguiente pregunta. \n",
            "Debes responder solo a las preguntas sin generar nada más.\n",
            "\n",
            "EJEMPLO:\n",
            "Humano: Hola, ¿cómo estás?\n",
            "IA: Bien, ¿y tú?\n",
            "Humano: Bien, gracias por preguntar.\n",
            "IA: ¿En qué puedo ayudarte?\n",
            "\n",
            "NO DEBES CONTINUAR LA CONVERSACIÓN, SOLO GENERAR LA RESPUESTA A LA PREGUNTA.\n",
            "\n",
            "Conversación actual:\n",
            "Human: Hola, mi nombre es Alex, que cosas puedes hacer? \n",
            "IA:  Puedo ayudarte a encontrar información, leer noticias y conectarte con personas.\n",
            "Humano: Me podrias dar consejos sobre como organizar mi tiempo?\n",
            "IA:\u001b[0m\n",
            "\n",
            "\u001b[1m> Finished chain.\u001b[0m\n"
          ]
        },
        {
          "output_type": "display_data",
          "data": {
            "text/plain": [
              "<IPython.core.display.Markdown object>"
            ],
            "text/markdown": " Sí, por supuesto, puedo ayudarte a planificar y organizar tu día, establecer metas y crear un horario."
          },
          "metadata": {}
        }
      ]
    },
    {
      "cell_type": "code",
      "source": [
        "ans = chatbot.predict(input = \"Como puedo ser mas eficiente en mi trabajo?\")\n",
        "printmd(ans)"
      ],
      "metadata": {
        "colab": {
          "base_uri": "https://localhost:8080/",
          "height": 550
        },
        "id": "2o0ut8DIKjRw",
        "outputId": "77a640d0-e444-4c3e-f1f1-da980ab3c9f2"
      },
      "execution_count": 105,
      "outputs": [
        {
          "output_type": "stream",
          "name": "stderr",
          "text": [
            "Setting `pad_token_id` to `eos_token_id`:50256 for open-end generation.\n"
          ]
        },
        {
          "output_type": "stream",
          "name": "stdout",
          "text": [
            "\n",
            "\n",
            "\u001b[1m> Entering new  chain...\u001b[0m\n",
            "Prompt after formatting:\n",
            "\u001b[32;1m\u001b[1;3m\n",
            "Eres una IA conversacional de \"pregunta-respuesta\". \n",
            "El humano introducirá una pregunta y la IA responderá únicamente con la respuesta. \n",
            "Tu tarea es generar la respuesta de la IA y esperar la siguiente pregunta. \n",
            "Debes responder solo a las preguntas sin generar nada más.\n",
            "\n",
            "EJEMPLO:\n",
            "Humano: Hola, ¿cómo estás?\n",
            "IA: Bien, ¿y tú?\n",
            "Humano: Bien, gracias por preguntar.\n",
            "IA: ¿En qué puedo ayudarte?\n",
            "\n",
            "NO DEBES CONTINUAR LA CONVERSACIÓN, SOLO GENERAR LA RESPUESTA A LA PREGUNTA.\n",
            "\n",
            "Conversación actual:\n",
            "Human: Hola, mi nombre es Alex, que cosas puedes hacer? \n",
            "IA:  Puedo ayudarte a encontrar información, leer noticias y conectarte con personas.\n",
            "Human: Me podrias dar consejos sobre como organizar mi tiempo?\n",
            "IA:  Sí, por supuesto, puedo ayudarte a planificar y organizar tu día, establecer metas y crear un horario.\n",
            "Humano: Como puedo ser mas eficiente en mi trabajo?\n",
            "IA:\u001b[0m\n",
            "\n",
            "\u001b[1m> Finished chain.\u001b[0m\n"
          ]
        },
        {
          "output_type": "display_data",
          "data": {
            "text/plain": [
              "<IPython.core.display.Markdown object>"
            ],
            "text/markdown": " Puedo ayudarte a identificar formas de optimizar tu flujo de trabajo y hacer tu trabajo más eficientemente. También puedo proporcionarte consejos sobre cómo priorizar tareas y administrar tu tiempo de manera efectiva."
          },
          "metadata": {}
        }
      ]
    },
    {
      "cell_type": "code",
      "source": [
        "ans = chatbot.predict(input = \"Recuerdas cual es mi nombre?\")\n",
        "printmd(ans)"
      ],
      "metadata": {
        "colab": {
          "base_uri": "https://localhost:8080/",
          "height": 587
        },
        "id": "5EKXAJQkLxBn",
        "outputId": "0b23e132-bafa-4900-8fd5-151a815eb455"
      },
      "execution_count": 106,
      "outputs": [
        {
          "output_type": "stream",
          "name": "stderr",
          "text": [
            "Setting `pad_token_id` to `eos_token_id`:50256 for open-end generation.\n"
          ]
        },
        {
          "output_type": "stream",
          "name": "stdout",
          "text": [
            "\n",
            "\n",
            "\u001b[1m> Entering new  chain...\u001b[0m\n",
            "Prompt after formatting:\n",
            "\u001b[32;1m\u001b[1;3m\n",
            "Eres una IA conversacional de \"pregunta-respuesta\". \n",
            "El humano introducirá una pregunta y la IA responderá únicamente con la respuesta. \n",
            "Tu tarea es generar la respuesta de la IA y esperar la siguiente pregunta. \n",
            "Debes responder solo a las preguntas sin generar nada más.\n",
            "\n",
            "EJEMPLO:\n",
            "Humano: Hola, ¿cómo estás?\n",
            "IA: Bien, ¿y tú?\n",
            "Humano: Bien, gracias por preguntar.\n",
            "IA: ¿En qué puedo ayudarte?\n",
            "\n",
            "NO DEBES CONTINUAR LA CONVERSACIÓN, SOLO GENERAR LA RESPUESTA A LA PREGUNTA.\n",
            "\n",
            "Conversación actual:\n",
            "Human: Hola, mi nombre es Alex, que cosas puedes hacer? \n",
            "IA:  Puedo ayudarte a encontrar información, leer noticias y conectarte con personas.\n",
            "Human: Me podrias dar consejos sobre como organizar mi tiempo?\n",
            "IA:  Sí, por supuesto, puedo ayudarte a planificar y organizar tu día, establecer metas y crear un horario.\n",
            "Human: Como puedo ser mas eficiente en mi trabajo?\n",
            "IA:  Puedo ayudarte a identificar formas de optimizar tu flujo de trabajo y hacer tu trabajo más eficientemente. También puedo proporcionarte consejos sobre cómo priorizar tareas y administrar tu tiempo de manera efectiva.\n",
            "Humano: Recuerdas cual es mi nombre?\n",
            "IA:\u001b[0m\n",
            "\n",
            "\u001b[1m> Finished chain.\u001b[0m\n"
          ]
        },
        {
          "output_type": "display_data",
          "data": {
            "text/plain": [
              "<IPython.core.display.Markdown object>"
            ],
            "text/markdown": " Sí, claro, me acuerdo de Alex."
          },
          "metadata": {}
        }
      ]
    },
    {
      "cell_type": "code",
      "source": [
        "memory.chat_memory.messages"
      ],
      "metadata": {
        "colab": {
          "base_uri": "https://localhost:8080/"
        },
        "id": "aIBzc0iRF71N",
        "outputId": "d444b12c-a11f-4163-d949-efd37c1f5455"
      },
      "execution_count": 107,
      "outputs": [
        {
          "output_type": "execute_result",
          "data": {
            "text/plain": [
              "[HumanMessage(content='Hola, mi nombre es Alex, que cosas puedes hacer? ', additional_kwargs={}, example=False),\n",
              " AIMessage(content=' Puedo ayudarte a encontrar información, leer noticias y conectarte con personas.', additional_kwargs={}, example=False),\n",
              " HumanMessage(content='Me podrias dar consejos sobre como organizar mi tiempo?', additional_kwargs={}, example=False),\n",
              " AIMessage(content=' Sí, por supuesto, puedo ayudarte a planificar y organizar tu día, establecer metas y crear un horario.', additional_kwargs={}, example=False),\n",
              " HumanMessage(content='Como puedo ser mas eficiente en mi trabajo?', additional_kwargs={}, example=False),\n",
              " AIMessage(content=' Puedo ayudarte a identificar formas de optimizar tu flujo de trabajo y hacer tu trabajo más eficientemente. También puedo proporcionarte consejos sobre cómo priorizar tareas y administrar tu tiempo de manera efectiva.', additional_kwargs={}, example=False),\n",
              " HumanMessage(content='Recuerdas cual es mi nombre?', additional_kwargs={}, example=False),\n",
              " AIMessage(content=' Sí, claro, me acuerdo de Alex.', additional_kwargs={}, example=False)]"
            ]
          },
          "metadata": {},
          "execution_count": 107
        }
      ]
    }
  ],
  "metadata": {
    "accelerator": "GPU",
    "colab": {
      "provenance": [],
      "authorship_tag": "ABX9TyPFaF93o2l78E11WP7lScBN",
      "include_colab_link": true
    },
    "kernelspec": {
      "display_name": "Python 3",
      "name": "python3"
    },
    "language_info": {
      "name": "python"
    }
  },
  "nbformat": 4,
  "nbformat_minor": 0
}