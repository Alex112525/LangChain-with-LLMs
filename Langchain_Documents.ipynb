{
  "nbformat": 4,
  "nbformat_minor": 0,
  "metadata": {
    "colab": {
      "provenance": [],
      "authorship_tag": "ABX9TyMIXryMTBWCUh6136ihk6dm",
      "include_colab_link": true
    },
    "kernelspec": {
      "name": "python3",
      "display_name": "Python 3"
    },
    "language_info": {
      "name": "python"
    }
  },
  "cells": [
    {
      "cell_type": "markdown",
      "metadata": {
        "id": "view-in-github",
        "colab_type": "text"
      },
      "source": [
        "<a href=\"https://colab.research.google.com/github/Alex112525/LangChain-with-LLMs/blob/main/Langchain_Documents.ipynb\" target=\"_parent\"><img src=\"https://colab.research.google.com/assets/colab-badge.svg\" alt=\"Open In Colab\"/></a>"
      ]
    },
    {
      "cell_type": "markdown",
      "source": [
        "The **Document** class in LangChain is a base class for representing documents. It has two main properties:\n",
        "\n",
        "* __page_content__: The text content of the document.\n",
        "* __metadata__: Arbitrary metadata about the document, such as the source of the document or its relationships to other documents.\n",
        "\n",
        "The Document class can be used to represent any type of document, such as a web page, a PDF, or a text file. It can also be used to represent a collection of documents, such as a book or a dataset.\n",
        "\n",
        "The Document class provides a number of methods for accessing and manipulating the document content and metadata. For example, the __get_page_content()__ method can be used to get the text content of the document, and the __set_metadata()__ method can be used to set the metadata for the document."
      ],
      "metadata": {
        "id": "FM4Q1e4JLa4m"
      }
    },
    {
      "cell_type": "code",
      "execution_count": 1,
      "metadata": {
        "id": "xqu7Y786K5s5"
      },
      "outputs": [],
      "source": [
        "%%capture\n",
        "!pip install langchain"
      ]
    },
    {
      "cell_type": "code",
      "source": [
        "!pip show langchain"
      ],
      "metadata": {
        "colab": {
          "base_uri": "https://localhost:8080/"
        },
        "id": "EYgVIEIMLyQJ",
        "outputId": "22981530-f28c-4f5f-eacd-5f2d0c359572"
      },
      "execution_count": 2,
      "outputs": [
        {
          "output_type": "stream",
          "name": "stdout",
          "text": [
            "Name: langchain\n",
            "Version: 0.0.268\n",
            "Summary: Building applications with LLMs through composability\n",
            "Home-page: https://www.github.com/hwchase17/langchain\n",
            "Author: \n",
            "Author-email: \n",
            "License: MIT\n",
            "Location: /usr/local/lib/python3.10/dist-packages\n",
            "Requires: aiohttp, async-timeout, dataclasses-json, langsmith, numexpr, numpy, pydantic, PyYAML, requests, SQLAlchemy, tenacity\n",
            "Required-by: \n"
          ]
        }
      ]
    },
    {
      "cell_type": "markdown",
      "source": [
        "**Document class**\n"
      ],
      "metadata": {
        "id": "vFRYX_wlMDHM"
      }
    },
    {
      "cell_type": "markdown",
      "source": [
        "```{python}\n",
        "class Document(Serializable):\n",
        "    \"\"\"Interface for interacting with a document.\"\"\"\n",
        "\n",
        "    page_content: str\n",
        "    metadata: dict = Field(default_factory=dict)\n",
        "```"
      ],
      "metadata": {
        "id": "-NCtkKEKMHUr"
      }
    },
    {
      "cell_type": "code",
      "source": [
        "from langchain.schema import Document\n",
        "\n",
        "page_content = \"The Document class in LangChain is a piece of unstructured data that consists of page_content (the content of the data) and metadata (auxiliary pieces of information describing attributes of the data)\"\n",
        "metadata = {\"source\" : \"Bing\"}\n",
        "\n",
        "doc = Document(\n",
        "    page_content=page_content,\n",
        "    metadata=metadata\n",
        ")"
      ],
      "metadata": {
        "id": "qyQ3YFegL3KF"
      },
      "execution_count": 3,
      "outputs": []
    },
    {
      "cell_type": "code",
      "source": [
        "doc"
      ],
      "metadata": {
        "colab": {
          "base_uri": "https://localhost:8080/"
        },
        "id": "idl0romuNUv8",
        "outputId": "b5243871-c9af-4c91-cd53-5e493ee4d684"
      },
      "execution_count": 4,
      "outputs": [
        {
          "output_type": "execute_result",
          "data": {
            "text/plain": [
              "Document(page_content='The Document class in LangChain is a piece of unstructured data that consists of page_content (the content of the data) and metadata (auxiliary pieces of information describing attributes of the data)', metadata={'source': 'Bing'})"
            ]
          },
          "metadata": {},
          "execution_count": 4
        }
      ]
    },
    {
      "cell_type": "code",
      "source": [
        "doc.page_content"
      ],
      "metadata": {
        "colab": {
          "base_uri": "https://localhost:8080/",
          "height": 53
        },
        "id": "taGXGfcBNWDw",
        "outputId": "5f523e9d-474d-4386-b476-405a5c604cf3"
      },
      "execution_count": 5,
      "outputs": [
        {
          "output_type": "execute_result",
          "data": {
            "text/plain": [
              "'The Document class in LangChain is a piece of unstructured data that consists of page_content (the content of the data) and metadata (auxiliary pieces of information describing attributes of the data)'"
            ],
            "application/vnd.google.colaboratory.intrinsic+json": {
              "type": "string"
            }
          },
          "metadata": {},
          "execution_count": 5
        }
      ]
    },
    {
      "cell_type": "markdown",
      "source": [
        "The **Document** class in LangChain can read a variety of file formats, including:\n",
        "\n",
        "* Text files (.txt)\n",
        "* PDF files (.pdf)\n",
        "* HTML files (.html)\n",
        "* JSON files (.json)\n",
        "* Markdown files (.md)\n",
        "* CSV files (.csv)\n",
        "* etc.\n",
        "\n",
        "You can also use the File Directory loader to read a directory of files."
      ],
      "metadata": {
        "id": "CwI3uRKvPKB1"
      }
    },
    {
      "cell_type": "code",
      "source": [
        "import requests\n",
        "url = \"https://proceedings.neurips.cc/paper_files/paper/2013/file/9aa42b31882ec039965f3c4923ce901b-Paper.pdf\"\n",
        "response = requests.get(url)\n",
        "\n",
        "with open('Distributed_Representations.pdf', 'wb') as f:\n",
        "    f.write(response.content)"
      ],
      "metadata": {
        "id": "1CjJyoD_PSgo"
      },
      "execution_count": 6,
      "outputs": []
    },
    {
      "cell_type": "code",
      "source": [
        "response.content[560:870]"
      ],
      "metadata": {
        "colab": {
          "base_uri": "https://localhost:8080/"
        },
        "id": "QB97p3bRPeBl",
        "outputId": "77da68ad-97db-4284-f464-79520dcd2945"
      },
      "execution_count": 7,
      "outputs": [
        {
          "output_type": "execute_result",
          "data": {
            "text/plain": [
              "b'In this paper we present several improvements that make the Skip\\\\055gram model more expressive and enable it to learn higher quality vectors more rapidly\\\\056  We show that by subsampling frequent words we obtain significant speedup\\\\054  and also learn higher quality representations as measured by our tasks\\\\05'"
            ]
          },
          "metadata": {},
          "execution_count": 7
        }
      ]
    },
    {
      "cell_type": "markdown",
      "source": [
        "The **unstructured** library in Python is an open-source library for ingesting and pre-processing images and text documents, such as PDFs, HTML, Word docs, and many more. It provides a number of components for extracting text, converting between formats, and cleaning and normalizing data.\n",
        "\n",
        "The **unstructured** library is designed to be used with large language models (LLMs). LLMs are a type of artificial intelligence (AI) model that can be used to generate text, translate languages, write different kinds of creative content, and answer your questions in an informative way. However, LLMs require large amounts of data to train, and this data often needs to be pre-processed in order to be used effectively."
      ],
      "metadata": {
        "id": "YvgpLrcPRCny"
      }
    },
    {
      "cell_type": "code",
      "source": [
        "!pip install unstructured==0.10.4"
      ],
      "metadata": {
        "id": "eMGt_8JCP1DY"
      },
      "execution_count": null,
      "outputs": []
    },
    {
      "cell_type": "code",
      "source": [
        "from langchain.document_loaders import UnstructuredFileLoader\n",
        "\n",
        "loader = UnstructuredFileLoader(\"./Distributed_Representations.pdf\")\n",
        "data = loader.load()"
      ],
      "metadata": {
        "id": "ezdcBhsrRM4G"
      },
      "execution_count": 10,
      "outputs": []
    },
    {
      "cell_type": "code",
      "source": [
        "type(data[0])"
      ],
      "metadata": {
        "colab": {
          "base_uri": "https://localhost:8080/"
        },
        "id": "VrHco5awVo70",
        "outputId": "a6a1d82e-47a6-4893-8078-99ac03f9b2ec"
      },
      "execution_count": 11,
      "outputs": [
        {
          "output_type": "execute_result",
          "data": {
            "text/plain": [
              "langchain.schema.document.Document"
            ]
          },
          "metadata": {},
          "execution_count": 11
        }
      ]
    },
    {
      "cell_type": "code",
      "source": [
        "data[0].page_content[364:820]"
      ],
      "metadata": {
        "colab": {
          "base_uri": "https://localhost:8080/",
          "height": 70
        },
        "id": "8wU36XUrV2GQ",
        "outputId": "3fb86726-701e-4e0a-e8ef-ffddbab33aa0"
      },
      "execution_count": 22,
      "outputs": [
        {
          "output_type": "execute_result",
          "data": {
            "text/plain": [
              "'Abstract\\n\\nThe recently introduced continuous Skip-gram model is an efﬁcient method for learning high-quality distributed vector representations that capture a large num- ber of precise syntactic and semantic word relationships. In this paper we present several extensions that improve both the quality of the vectors and the training speed. By subsampling of the frequent words we obtain signiﬁcant speedup and also learn more regular word representations.'"
            ],
            "application/vnd.google.colaboratory.intrinsic+json": {
              "type": "string"
            }
          },
          "metadata": {},
          "execution_count": 22
        }
      ]
    },
    {
      "cell_type": "code",
      "source": [
        "data[0].metadata"
      ],
      "metadata": {
        "colab": {
          "base_uri": "https://localhost:8080/"
        },
        "id": "v5bSchLXVvCN",
        "outputId": "a2afa3fb-0c77-47ca-8b1d-c9dd3e4a6bde"
      },
      "execution_count": 13,
      "outputs": [
        {
          "output_type": "execute_result",
          "data": {
            "text/plain": [
              "{'source': './Distributed_Representations.pdf'}"
            ]
          },
          "metadata": {},
          "execution_count": 13
        }
      ]
    }
  ]
}